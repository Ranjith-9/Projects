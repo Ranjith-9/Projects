{
 "cells": [
  {
   "cell_type": "code",
   "execution_count": 1,
   "id": "a928318a",
   "metadata": {},
   "outputs": [],
   "source": [
    "import pandas as pd \n",
    "import numpy as np \n",
    "import matplotlib.pyplot as plt\n",
    "import seaborn as sns\n",
    "import warnings\n",
    "from sklearn.preprocessing import LabelEncoder, StandardScaler\n",
    "from sklearn.model_selection import train_test_split\n",
    "from sklearn.feature_selection import RFE\n",
    "from sklearn.ensemble import RandomForestRegressor\n",
    "from sklearn.cluster import KMeans\n",
    "from sklearn.metrics import silhouette_score\n",
    "# Suppress FutureWarning for n_init\n",
    "warnings.simplefilter(action='ignore', category=FutureWarning)\n",
    "\n",
    "from sklearn.tree import DecisionTreeClassifier\n",
    "from sklearn.ensemble import BaggingClassifier\n",
    "from sklearn.ensemble import ExtraTreesClassifier\n",
    "from sklearn.ensemble import RandomForestClassifier\n",
    "\n",
    "from sklearn.metrics import accuracy_score, confusion_matrix\n",
    "from sklearn.metrics import classification_report\n",
    "from sklearn.neighbors import KNeighborsClassifier\n",
    "\n",
    "from sklearn.ensemble import AdaBoostClassifier\n",
    "from sklearn.ensemble import GradientBoostingClassifier\n",
    "from sklearn.tree import ExtraTreeClassifier"
   ]
  },
  {
   "cell_type": "code",
   "execution_count": 2,
   "id": "eb83a153",
   "metadata": {},
   "outputs": [],
   "source": [
    "df = pd.read_csv('Data.csv')"
   ]
  },
  {
   "cell_type": "code",
   "execution_count": 3,
   "id": "40e23b1a",
   "metadata": {
    "scrolled": true
   },
   "outputs": [
    {
     "data": {
      "text/html": [
       "<div>\n",
       "<style scoped>\n",
       "    .dataframe tbody tr th:only-of-type {\n",
       "        vertical-align: middle;\n",
       "    }\n",
       "\n",
       "    .dataframe tbody tr th {\n",
       "        vertical-align: top;\n",
       "    }\n",
       "\n",
       "    .dataframe thead th {\n",
       "        text-align: right;\n",
       "    }\n",
       "</style>\n",
       "<table border=\"1\" class=\"dataframe\">\n",
       "  <thead>\n",
       "    <tr style=\"text-align: right;\">\n",
       "      <th></th>\n",
       "      <th>Ware_house_ID</th>\n",
       "      <th>WH_Manager_ID</th>\n",
       "      <th>Location_type</th>\n",
       "      <th>WH_capacity_size</th>\n",
       "      <th>zone</th>\n",
       "      <th>WH_regional_zone</th>\n",
       "      <th>num_refill_req_l3m</th>\n",
       "      <th>transport_issue_l1y</th>\n",
       "      <th>Competitor_in_mkt</th>\n",
       "      <th>retail_shop_num</th>\n",
       "      <th>...</th>\n",
       "      <th>electric_supply</th>\n",
       "      <th>dist_from_hub</th>\n",
       "      <th>workers_num</th>\n",
       "      <th>wh_est_year</th>\n",
       "      <th>storage_issue_reported_l3m</th>\n",
       "      <th>temp_reg_mach</th>\n",
       "      <th>approved_wh_govt_certificate</th>\n",
       "      <th>wh_breakdown_l3m</th>\n",
       "      <th>govt_check_l3m</th>\n",
       "      <th>product_wg_ton</th>\n",
       "    </tr>\n",
       "  </thead>\n",
       "  <tbody>\n",
       "    <tr>\n",
       "      <th>0</th>\n",
       "      <td>WH_100000</td>\n",
       "      <td>EID_50000</td>\n",
       "      <td>Urban</td>\n",
       "      <td>Small</td>\n",
       "      <td>West</td>\n",
       "      <td>Zone 6</td>\n",
       "      <td>3</td>\n",
       "      <td>1</td>\n",
       "      <td>2</td>\n",
       "      <td>4651</td>\n",
       "      <td>...</td>\n",
       "      <td>1</td>\n",
       "      <td>91</td>\n",
       "      <td>29.0</td>\n",
       "      <td>NaN</td>\n",
       "      <td>13</td>\n",
       "      <td>0</td>\n",
       "      <td>A</td>\n",
       "      <td>5</td>\n",
       "      <td>15</td>\n",
       "      <td>17115</td>\n",
       "    </tr>\n",
       "    <tr>\n",
       "      <th>1</th>\n",
       "      <td>WH_100001</td>\n",
       "      <td>EID_50001</td>\n",
       "      <td>Rural</td>\n",
       "      <td>Large</td>\n",
       "      <td>North</td>\n",
       "      <td>Zone 5</td>\n",
       "      <td>0</td>\n",
       "      <td>0</td>\n",
       "      <td>4</td>\n",
       "      <td>6217</td>\n",
       "      <td>...</td>\n",
       "      <td>1</td>\n",
       "      <td>210</td>\n",
       "      <td>31.0</td>\n",
       "      <td>NaN</td>\n",
       "      <td>4</td>\n",
       "      <td>0</td>\n",
       "      <td>A</td>\n",
       "      <td>3</td>\n",
       "      <td>17</td>\n",
       "      <td>5074</td>\n",
       "    </tr>\n",
       "    <tr>\n",
       "      <th>2</th>\n",
       "      <td>WH_100002</td>\n",
       "      <td>EID_50002</td>\n",
       "      <td>Rural</td>\n",
       "      <td>Mid</td>\n",
       "      <td>South</td>\n",
       "      <td>Zone 2</td>\n",
       "      <td>1</td>\n",
       "      <td>0</td>\n",
       "      <td>4</td>\n",
       "      <td>4306</td>\n",
       "      <td>...</td>\n",
       "      <td>0</td>\n",
       "      <td>161</td>\n",
       "      <td>37.0</td>\n",
       "      <td>NaN</td>\n",
       "      <td>17</td>\n",
       "      <td>0</td>\n",
       "      <td>A</td>\n",
       "      <td>6</td>\n",
       "      <td>22</td>\n",
       "      <td>23137</td>\n",
       "    </tr>\n",
       "    <tr>\n",
       "      <th>3</th>\n",
       "      <td>WH_100003</td>\n",
       "      <td>EID_50003</td>\n",
       "      <td>Rural</td>\n",
       "      <td>Mid</td>\n",
       "      <td>North</td>\n",
       "      <td>Zone 3</td>\n",
       "      <td>7</td>\n",
       "      <td>4</td>\n",
       "      <td>2</td>\n",
       "      <td>6000</td>\n",
       "      <td>...</td>\n",
       "      <td>0</td>\n",
       "      <td>103</td>\n",
       "      <td>21.0</td>\n",
       "      <td>NaN</td>\n",
       "      <td>17</td>\n",
       "      <td>1</td>\n",
       "      <td>A+</td>\n",
       "      <td>3</td>\n",
       "      <td>27</td>\n",
       "      <td>22115</td>\n",
       "    </tr>\n",
       "    <tr>\n",
       "      <th>4</th>\n",
       "      <td>WH_100004</td>\n",
       "      <td>EID_50004</td>\n",
       "      <td>Rural</td>\n",
       "      <td>Large</td>\n",
       "      <td>North</td>\n",
       "      <td>Zone 5</td>\n",
       "      <td>3</td>\n",
       "      <td>1</td>\n",
       "      <td>2</td>\n",
       "      <td>4740</td>\n",
       "      <td>...</td>\n",
       "      <td>1</td>\n",
       "      <td>112</td>\n",
       "      <td>25.0</td>\n",
       "      <td>2009.0</td>\n",
       "      <td>18</td>\n",
       "      <td>0</td>\n",
       "      <td>C</td>\n",
       "      <td>6</td>\n",
       "      <td>24</td>\n",
       "      <td>24071</td>\n",
       "    </tr>\n",
       "  </tbody>\n",
       "</table>\n",
       "<p>5 rows × 24 columns</p>\n",
       "</div>"
      ],
      "text/plain": [
       "  Ware_house_ID WH_Manager_ID Location_type WH_capacity_size   zone  \\\n",
       "0     WH_100000     EID_50000         Urban            Small   West   \n",
       "1     WH_100001     EID_50001         Rural            Large  North   \n",
       "2     WH_100002     EID_50002         Rural              Mid  South   \n",
       "3     WH_100003     EID_50003         Rural              Mid  North   \n",
       "4     WH_100004     EID_50004         Rural            Large  North   \n",
       "\n",
       "  WH_regional_zone  num_refill_req_l3m  transport_issue_l1y  \\\n",
       "0           Zone 6                   3                    1   \n",
       "1           Zone 5                   0                    0   \n",
       "2           Zone 2                   1                    0   \n",
       "3           Zone 3                   7                    4   \n",
       "4           Zone 5                   3                    1   \n",
       "\n",
       "   Competitor_in_mkt  retail_shop_num  ... electric_supply  dist_from_hub  \\\n",
       "0                  2             4651  ...               1             91   \n",
       "1                  4             6217  ...               1            210   \n",
       "2                  4             4306  ...               0            161   \n",
       "3                  2             6000  ...               0            103   \n",
       "4                  2             4740  ...               1            112   \n",
       "\n",
       "   workers_num  wh_est_year  storage_issue_reported_l3m  temp_reg_mach  \\\n",
       "0         29.0          NaN                          13              0   \n",
       "1         31.0          NaN                           4              0   \n",
       "2         37.0          NaN                          17              0   \n",
       "3         21.0          NaN                          17              1   \n",
       "4         25.0       2009.0                          18              0   \n",
       "\n",
       "   approved_wh_govt_certificate  wh_breakdown_l3m  govt_check_l3m  \\\n",
       "0                             A                 5              15   \n",
       "1                             A                 3              17   \n",
       "2                             A                 6              22   \n",
       "3                            A+                 3              27   \n",
       "4                             C                 6              24   \n",
       "\n",
       "   product_wg_ton  \n",
       "0           17115  \n",
       "1            5074  \n",
       "2           23137  \n",
       "3           22115  \n",
       "4           24071  \n",
       "\n",
       "[5 rows x 24 columns]"
      ]
     },
     "execution_count": 3,
     "metadata": {},
     "output_type": "execute_result"
    }
   ],
   "source": [
    "df.head()"
   ]
  },
  {
   "cell_type": "code",
   "execution_count": 4,
   "id": "901d2294",
   "metadata": {
    "scrolled": false
   },
   "outputs": [
    {
     "name": "stdout",
     "output_type": "stream",
     "text": [
      "<class 'pandas.core.frame.DataFrame'>\n",
      "RangeIndex: 25000 entries, 0 to 24999\n",
      "Data columns (total 24 columns):\n",
      " #   Column                        Non-Null Count  Dtype  \n",
      "---  ------                        --------------  -----  \n",
      " 0   Ware_house_ID                 25000 non-null  object \n",
      " 1   WH_Manager_ID                 25000 non-null  object \n",
      " 2   Location_type                 25000 non-null  object \n",
      " 3   WH_capacity_size              25000 non-null  object \n",
      " 4   zone                          25000 non-null  object \n",
      " 5   WH_regional_zone              25000 non-null  object \n",
      " 6   num_refill_req_l3m            25000 non-null  int64  \n",
      " 7   transport_issue_l1y           25000 non-null  int64  \n",
      " 8   Competitor_in_mkt             25000 non-null  int64  \n",
      " 9   retail_shop_num               25000 non-null  int64  \n",
      " 10  wh_owner_type                 25000 non-null  object \n",
      " 11  distributor_num               25000 non-null  int64  \n",
      " 12  flood_impacted                25000 non-null  int64  \n",
      " 13  flood_proof                   25000 non-null  int64  \n",
      " 14  electric_supply               25000 non-null  int64  \n",
      " 15  dist_from_hub                 25000 non-null  int64  \n",
      " 16  workers_num                   24010 non-null  float64\n",
      " 17  wh_est_year                   13119 non-null  float64\n",
      " 18  storage_issue_reported_l3m    25000 non-null  int64  \n",
      " 19  temp_reg_mach                 25000 non-null  int64  \n",
      " 20  approved_wh_govt_certificate  24092 non-null  object \n",
      " 21  wh_breakdown_l3m              25000 non-null  int64  \n",
      " 22  govt_check_l3m                25000 non-null  int64  \n",
      " 23  product_wg_ton                25000 non-null  int64  \n",
      "dtypes: float64(2), int64(14), object(8)\n",
      "memory usage: 4.6+ MB\n"
     ]
    }
   ],
   "source": [
    "df.info()"
   ]
  },
  {
   "cell_type": "code",
   "execution_count": 5,
   "id": "3b3fc55c",
   "metadata": {},
   "outputs": [
    {
     "data": {
      "text/plain": [
       "25000"
      ]
     },
     "execution_count": 5,
     "metadata": {},
     "output_type": "execute_result"
    }
   ],
   "source": [
    "df['WH_Manager_ID'].nunique()"
   ]
  },
  {
   "cell_type": "code",
   "execution_count": 6,
   "id": "e24901af",
   "metadata": {
    "scrolled": false
   },
   "outputs": [
    {
     "data": {
      "text/plain": [
       "0.022965"
      ]
     },
     "execution_count": 6,
     "metadata": {},
     "output_type": "execute_result"
    }
   ],
   "source": [
    "df.isnull().sum().sum()/ (df.shape[0]*df.shape[1])"
   ]
  },
  {
   "cell_type": "markdown",
   "id": "7412321a",
   "metadata": {},
   "source": [
    "### Droping non contributing columns towards model and columns with 30%  more missing values"
   ]
  },
  {
   "cell_type": "code",
   "execution_count": 7,
   "id": "6761bb59",
   "metadata": {},
   "outputs": [],
   "source": [
    "df.drop(['Ware_house_ID','WH_Manager_ID','wh_est_year'], axis = 1 , inplace = True)"
   ]
  },
  {
   "cell_type": "markdown",
   "id": "a55ee9fa",
   "metadata": {},
   "source": [
    "## Treating null values"
   ]
  },
  {
   "cell_type": "code",
   "execution_count": 8,
   "id": "3c3d4ae0",
   "metadata": {},
   "outputs": [
    {
     "data": {
      "text/plain": [
       "Location_type                     0\n",
       "WH_capacity_size                  0\n",
       "zone                              0\n",
       "WH_regional_zone                  0\n",
       "num_refill_req_l3m                0\n",
       "transport_issue_l1y               0\n",
       "Competitor_in_mkt                 0\n",
       "retail_shop_num                   0\n",
       "wh_owner_type                     0\n",
       "distributor_num                   0\n",
       "flood_impacted                    0\n",
       "flood_proof                       0\n",
       "electric_supply                   0\n",
       "dist_from_hub                     0\n",
       "workers_num                     990\n",
       "storage_issue_reported_l3m        0\n",
       "temp_reg_mach                     0\n",
       "approved_wh_govt_certificate    908\n",
       "wh_breakdown_l3m                  0\n",
       "govt_check_l3m                    0\n",
       "product_wg_ton                    0\n",
       "dtype: int64"
      ]
     },
     "execution_count": 8,
     "metadata": {},
     "output_type": "execute_result"
    }
   ],
   "source": [
    "df.isnull().sum()"
   ]
  },
  {
   "cell_type": "code",
   "execution_count": 9,
   "id": "98ac55f5",
   "metadata": {},
   "outputs": [],
   "source": [
    "df['workers_num'] = df['workers_num'].fillna(df['workers_num'].mean()) #imputing with mean since it has normal distribution\n",
    "# Fill missing values with the mode\n",
    "mode_value = df['approved_wh_govt_certificate'].mode()[0]  # Get the first mode value\n",
    "df['approved_wh_govt_certificate'] = df['approved_wh_govt_certificate'].fillna(mode_value)"
   ]
  },
  {
   "cell_type": "code",
   "execution_count": 10,
   "id": "be53c00e",
   "metadata": {},
   "outputs": [
    {
     "data": {
      "text/plain": [
       "Location_type                   0\n",
       "WH_capacity_size                0\n",
       "zone                            0\n",
       "WH_regional_zone                0\n",
       "num_refill_req_l3m              0\n",
       "transport_issue_l1y             0\n",
       "Competitor_in_mkt               0\n",
       "retail_shop_num                 0\n",
       "wh_owner_type                   0\n",
       "distributor_num                 0\n",
       "flood_impacted                  0\n",
       "flood_proof                     0\n",
       "electric_supply                 0\n",
       "dist_from_hub                   0\n",
       "workers_num                     0\n",
       "storage_issue_reported_l3m      0\n",
       "temp_reg_mach                   0\n",
       "approved_wh_govt_certificate    0\n",
       "wh_breakdown_l3m                0\n",
       "govt_check_l3m                  0\n",
       "product_wg_ton                  0\n",
       "dtype: int64"
      ]
     },
     "execution_count": 10,
     "metadata": {},
     "output_type": "execute_result"
    }
   ],
   "source": [
    "df.isnull().sum()"
   ]
  },
  {
   "cell_type": "markdown",
   "id": "59535cbb",
   "metadata": {},
   "source": [
    "## List to convert to Categorical Features"
   ]
  },
  {
   "cell_type": "code",
   "execution_count": 11,
   "id": "aa5c7400",
   "metadata": {},
   "outputs": [],
   "source": [
    "# List of columns to convert to category\n",
    "columns_to_convert = ['Location_type', 'WH_capacity_size', 'zone', 'WH_regional_zone',\n",
    "                      'num_refill_req_l3m', 'transport_issue_l1y', 'Competitor_in_mkt',\n",
    "                      'wh_owner_type', 'flood_impacted', 'flood_proof', 'electric_supply',\n",
    "                      'temp_reg_mach', 'wh_breakdown_l3m','approved_wh_govt_certificate']\n",
    "\n",
    "# Convert columns to category using a for loop\n",
    "for column in columns_to_convert:\n",
    "    df[column] = df[column].astype('category')"
   ]
  },
  {
   "cell_type": "code",
   "execution_count": 12,
   "id": "4218b4b1",
   "metadata": {},
   "outputs": [
    {
     "name": "stdout",
     "output_type": "stream",
     "text": [
      "<class 'pandas.core.frame.DataFrame'>\n",
      "RangeIndex: 25000 entries, 0 to 24999\n",
      "Data columns (total 21 columns):\n",
      " #   Column                        Non-Null Count  Dtype   \n",
      "---  ------                        --------------  -----   \n",
      " 0   Location_type                 25000 non-null  category\n",
      " 1   WH_capacity_size              25000 non-null  category\n",
      " 2   zone                          25000 non-null  category\n",
      " 3   WH_regional_zone              25000 non-null  category\n",
      " 4   num_refill_req_l3m            25000 non-null  category\n",
      " 5   transport_issue_l1y           25000 non-null  category\n",
      " 6   Competitor_in_mkt             25000 non-null  category\n",
      " 7   retail_shop_num               25000 non-null  int64   \n",
      " 8   wh_owner_type                 25000 non-null  category\n",
      " 9   distributor_num               25000 non-null  int64   \n",
      " 10  flood_impacted                25000 non-null  category\n",
      " 11  flood_proof                   25000 non-null  category\n",
      " 12  electric_supply               25000 non-null  category\n",
      " 13  dist_from_hub                 25000 non-null  int64   \n",
      " 14  workers_num                   25000 non-null  float64 \n",
      " 15  storage_issue_reported_l3m    25000 non-null  int64   \n",
      " 16  temp_reg_mach                 25000 non-null  category\n",
      " 17  approved_wh_govt_certificate  25000 non-null  category\n",
      " 18  wh_breakdown_l3m              25000 non-null  category\n",
      " 19  govt_check_l3m                25000 non-null  int64   \n",
      " 20  product_wg_ton                25000 non-null  int64   \n",
      "dtypes: category(14), float64(1), int64(6)\n",
      "memory usage: 1.7 MB\n"
     ]
    }
   ],
   "source": [
    "df.info()"
   ]
  },
  {
   "cell_type": "markdown",
   "id": "d240ad3a",
   "metadata": {},
   "source": [
    "## Seperating the categorical, numerical and target columns"
   ]
  },
  {
   "cell_type": "code",
   "execution_count": 13,
   "id": "5e7f3589",
   "metadata": {},
   "outputs": [],
   "source": [
    "target = df['product_wg_ton'].copy()\n",
    "df.drop(['product_wg_ton'],axis =1, inplace=True)\n",
    "\n",
    "df_order = df.columns  #storing the df origiinal order\n",
    "\n",
    "cat_df = df[df.select_dtypes(include=['category', 'object']).columns].copy()\n",
    "num_df = df[df.select_dtypes(include=['number']).columns].copy()"
   ]
  },
  {
   "cell_type": "code",
   "execution_count": 14,
   "id": "2e85a917",
   "metadata": {},
   "outputs": [
    {
     "data": {
      "text/plain": [
       "Location_type                   0\n",
       "WH_capacity_size                0\n",
       "zone                            0\n",
       "WH_regional_zone                0\n",
       "num_refill_req_l3m              0\n",
       "transport_issue_l1y             0\n",
       "Competitor_in_mkt               0\n",
       "wh_owner_type                   0\n",
       "flood_impacted                  0\n",
       "flood_proof                     0\n",
       "electric_supply                 0\n",
       "temp_reg_mach                   0\n",
       "approved_wh_govt_certificate    0\n",
       "wh_breakdown_l3m                0\n",
       "dtype: int64"
      ]
     },
     "execution_count": 14,
     "metadata": {},
     "output_type": "execute_result"
    }
   ],
   "source": [
    "cat_df.isnull().sum() #checking for nulls"
   ]
  },
  {
   "cell_type": "markdown",
   "id": "7e628459",
   "metadata": {},
   "source": [
    "## Outlier Fix"
   ]
  },
  {
   "cell_type": "code",
   "execution_count": 15,
   "id": "2aa1b9f9",
   "metadata": {},
   "outputs": [],
   "source": [
    "def cap_outliers_with_bounds(df):\n",
    "  \n",
    "    for column in df.columns:\n",
    "        q1 = df[column].quantile(0.25)\n",
    "        q3 = df[column].quantile(0.75)\n",
    "        iqr = q3 - q1\n",
    "        \n",
    "        # Calculate lower and upper bounds based on provided bounds or IQR\n",
    "        lower_bound_iqr = q1 - 1.5 * iqr \n",
    "        upper_bound_iqr = q3 + 1.5 * iqr \n",
    "        \n",
    "        # Cap outliers to the lower and upper bounds\n",
    "        df[column] = np.clip(df[column], lower_bound_iqr, upper_bound_iqr)\n",
    "        \n",
    "    return df"
   ]
  },
  {
   "cell_type": "code",
   "execution_count": 16,
   "id": "1f54cf82",
   "metadata": {},
   "outputs": [],
   "source": [
    "num_df = cap_outliers_with_bounds(num_df)"
   ]
  },
  {
   "cell_type": "code",
   "execution_count": 17,
   "id": "857e87d1",
   "metadata": {},
   "outputs": [
    {
     "data": {
      "image/png": "[encoded data removed]",
      "text/plain": [
       "<Figure size 1500x1000 with 6 Axes>"
      ]
     },
     "metadata": {},
     "output_type": "display_data"
    }
   ],
   "source": [
    "# Display histograms of all features after capping outliers\n",
    "sns.set(style=\"whitegrid\")  # Set style for seaborn plots\n",
    "plt.figure(figsize=(15, 10))  # Set figure size\n",
    "\n",
    "# Loop through each column in the DataFrame and create a histogram\n",
    "for i, column in enumerate(num_df.columns):\n",
    "    plt.subplot(5, 5, i + 1)  # Create subplot\n",
    "    sns.histplot(num_df[column], kde=True)  # Plot histogram with kernel density estimation\n",
    "    plt.title(column)  # Set title for each subplot\n",
    "\n",
    "plt.subplots_adjust(hspace=0.5)  # Adjust vertical spacing between subplots\n",
    "plt.tight_layout()  # Adjust layout to prevent overlap of subplots\n",
    "plt.show()\n"
   ]
  },
  {
   "cell_type": "code",
   "execution_count": 18,
   "id": "e974b0b4",
   "metadata": {},
   "outputs": [
    {
     "data": {
      "image/png": "[encoded data removed]",
      "text/plain": [
       "<Figure size 1500x1000 with 6 Axes>"
      ]
     },
     "metadata": {},
     "output_type": "display_data"
    }
   ],
   "source": [
    "# Display histograms of all features\n",
    "sns.set(style=\"whitegrid\")  # Set style for seaborn plots\n",
    "plt.figure(figsize=(15, 10))  # Set figure size\n",
    "\n",
    "# Loop through each column in the DataFrame and create a histogram\n",
    "for i, column in enumerate(num_df.columns):\n",
    "    plt.subplot(5, 5, i + 1)  # Create subplot\n",
    "    sns.boxplot(num_df[column], orient='h')  # Plot histogram with kernel density estimation\n",
    "    plt.title(column)  # Set title for each subplot\n",
    "    \n",
    "plt.subplots_adjust(hspace=0.5)  # Adjust vertical spacing between subplots\n",
    "plt.tight_layout()  # Adjust layout to prevent overlap of subplots\n",
    "plt.show()"
   ]
  },
  {
   "cell_type": "markdown",
   "id": "c5bfddd5",
   "metadata": {},
   "source": [
    "## Encoding the Categorical Features"
   ]
  },
  {
   "cell_type": "code",
   "execution_count": 19,
   "id": "f657b83e",
   "metadata": {
    "scrolled": false
   },
   "outputs": [
    {
     "name": "stdout",
     "output_type": "stream",
     "text": [
      "Encoding for column 'Location_type':\n",
      "  Rural -> 0\n",
      "  Urban -> 1\n",
      "Encoding for column 'WH_capacity_size':\n",
      "  Large -> 0\n",
      "  Mid -> 1\n",
      "  Small -> 2\n",
      "Encoding for column 'zone':\n",
      "  East -> 0\n",
      "  North -> 1\n",
      "  South -> 2\n",
      "  West -> 3\n",
      "Encoding for column 'WH_regional_zone':\n",
      "  Zone 1 -> 0\n",
      "  Zone 2 -> 1\n",
      "  Zone 3 -> 2\n",
      "  Zone 4 -> 3\n",
      "  Zone 5 -> 4\n",
      "  Zone 6 -> 5\n",
      "Encoding for column 'num_refill_req_l3m':\n",
      "  0 -> 0\n",
      "  1 -> 1\n",
      "  2 -> 2\n",
      "  3 -> 3\n",
      "  4 -> 4\n",
      "  5 -> 5\n",
      "  6 -> 6\n",
      "  7 -> 7\n",
      "  8 -> 8\n",
      "Encoding for column 'transport_issue_l1y':\n",
      "  0 -> 0\n",
      "  1 -> 1\n",
      "  2 -> 2\n",
      "  3 -> 3\n",
      "  4 -> 4\n",
      "  5 -> 5\n",
      "Encoding for column 'Competitor_in_mkt':\n",
      "  0 -> 0\n",
      "  1 -> 1\n",
      "  2 -> 2\n",
      "  3 -> 3\n",
      "  4 -> 4\n",
      "  5 -> 5\n",
      "  6 -> 6\n",
      "  7 -> 7\n",
      "  8 -> 8\n",
      "  9 -> 9\n",
      "  10 -> 10\n",
      "  12 -> 11\n",
      "Encoding for column 'wh_owner_type':\n",
      "  Company Owned -> 0\n",
      "  Rented -> 1\n",
      "Encoding for column 'flood_impacted':\n",
      "  0 -> 0\n",
      "  1 -> 1\n",
      "Encoding for column 'flood_proof':\n",
      "  0 -> 0\n",
      "  1 -> 1\n",
      "Encoding for column 'electric_supply':\n",
      "  0 -> 0\n",
      "  1 -> 1\n",
      "Encoding for column 'temp_reg_mach':\n",
      "  0 -> 0\n",
      "  1 -> 1\n",
      "Encoding for column 'approved_wh_govt_certificate':\n",
      "  A -> 0\n",
      "  A+ -> 1\n",
      "  B -> 2\n",
      "  B+ -> 3\n",
      "  C -> 4\n",
      "Encoding for column 'wh_breakdown_l3m':\n",
      "  0 -> 0\n",
      "  1 -> 1\n",
      "  2 -> 2\n",
      "  3 -> 3\n",
      "  4 -> 4\n",
      "  5 -> 5\n",
      "  6 -> 6\n"
     ]
    }
   ],
   "source": [
    "# Initialize a dictionary to store label encoder objects\n",
    "label_encoders = {}\n",
    "\n",
    "# Loop through each column in the DataFrame\n",
    "for column in cat_df.columns:\n",
    "    # Extract unique categories and their corresponding indices\n",
    "    unique_categories, indices = np.unique(cat_df[column], return_inverse=True)\n",
    "    # Initialize LabelEncoder\n",
    "    label_encoder = LabelEncoder()\n",
    "    # Fit label encoder to unique categories\n",
    "    label_encoder.fit(unique_categories)\n",
    "    # Store the label encoder object in the dictionary\n",
    "    label_encoders[column] = label_encoder\n",
    "    # Display the mapping of categories to encoded values\n",
    "    print(f\"Encoding for column '{column}':\")\n",
    "    for category, encoded_value in zip(unique_categories, label_encoder.transform(unique_categories)):\n",
    "        print(f\"  {category} -> {encoded_value}\")\n",
    "\n",
    "    # Update the DataFrame with encoded values\n",
    "    cat_df[column] = label_encoder.transform(cat_df[column])\n",
    "\n",
    "cat_order = cat_df.columns #storing the categorical feature order"
   ]
  },
  {
   "cell_type": "markdown",
   "id": "ec5dae80",
   "metadata": {},
   "source": [
    "## Scaling the numerical features"
   ]
  },
  {
   "cell_type": "code",
   "execution_count": 20,
   "id": "1c132764",
   "metadata": {},
   "outputs": [],
   "source": [
    "num_order = num_df.columns #storing the original feature order"
   ]
  },
  {
   "cell_type": "code",
   "execution_count": 21,
   "id": "b4ded346",
   "metadata": {},
   "outputs": [],
   "source": [
    "scaler = StandardScaler()\n",
    "num_df = pd.DataFrame(scaler.fit_transform(num_df), columns = num_df.columns)"
   ]
  },
  {
   "cell_type": "markdown",
   "id": "503e9ce6",
   "metadata": {},
   "source": [
    "## Merging the encoded categorical and numerical df"
   ]
  },
  {
   "cell_type": "code",
   "execution_count": 22,
   "id": "4a62a4ea",
   "metadata": {},
   "outputs": [],
   "source": [
    "df = pd.concat([cat_df,num_df],axis = 1)\n",
    "df = df[df_order]\n",
    "df = pd.concat([df,target],axis =1 )"
   ]
  },
  {
   "cell_type": "code",
   "execution_count": 23,
   "id": "69636184",
   "metadata": {},
   "outputs": [],
   "source": [
    "X = df.drop(['product_wg_ton'],axis = 1)\n",
    "y = df['product_wg_ton']"
   ]
  },
  {
   "cell_type": "code",
   "execution_count": 24,
   "id": "62b232df",
   "metadata": {},
   "outputs": [
    {
     "name": "stdout",
     "output_type": "stream",
     "text": [
      "<class 'pandas.core.frame.DataFrame'>\n",
      "RangeIndex: 25000 entries, 0 to 24999\n",
      "Data columns (total 20 columns):\n",
      " #   Column                        Non-Null Count  Dtype  \n",
      "---  ------                        --------------  -----  \n",
      " 0   Location_type                 25000 non-null  int32  \n",
      " 1   WH_capacity_size              25000 non-null  int32  \n",
      " 2   zone                          25000 non-null  int32  \n",
      " 3   WH_regional_zone              25000 non-null  int32  \n",
      " 4   num_refill_req_l3m            25000 non-null  int64  \n",
      " 5   transport_issue_l1y           25000 non-null  int64  \n",
      " 6   Competitor_in_mkt             25000 non-null  int64  \n",
      " 7   retail_shop_num               25000 non-null  float64\n",
      " 8   wh_owner_type                 25000 non-null  int32  \n",
      " 9   distributor_num               25000 non-null  float64\n",
      " 10  flood_impacted                25000 non-null  int64  \n",
      " 11  flood_proof                   25000 non-null  int64  \n",
      " 12  electric_supply               25000 non-null  int64  \n",
      " 13  dist_from_hub                 25000 non-null  float64\n",
      " 14  workers_num                   25000 non-null  float64\n",
      " 15  storage_issue_reported_l3m    25000 non-null  float64\n",
      " 16  temp_reg_mach                 25000 non-null  int64  \n",
      " 17  approved_wh_govt_certificate  25000 non-null  int32  \n",
      " 18  wh_breakdown_l3m              25000 non-null  int64  \n",
      " 19  govt_check_l3m                25000 non-null  float64\n",
      "dtypes: float64(6), int32(6), int64(8)\n",
      "memory usage: 3.2 MB\n"
     ]
    }
   ],
   "source": [
    "X.info()"
   ]
  },
  {
   "cell_type": "code",
   "execution_count": 25,
   "id": "62d78e77",
   "metadata": {},
   "outputs": [
    {
     "data": {
      "text/html": [
       "<div>\n",
       "<style scoped>\n",
       "    .dataframe tbody tr th:only-of-type {\n",
       "        vertical-align: middle;\n",
       "    }\n",
       "\n",
       "    .dataframe tbody tr th {\n",
       "        vertical-align: top;\n",
       "    }\n",
       "\n",
       "    .dataframe thead th {\n",
       "        text-align: right;\n",
       "    }\n",
       "</style>\n",
       "<table border=\"1\" class=\"dataframe\">\n",
       "  <thead>\n",
       "    <tr style=\"text-align: right;\">\n",
       "      <th></th>\n",
       "      <th>Location_type</th>\n",
       "      <th>WH_capacity_size</th>\n",
       "      <th>zone</th>\n",
       "      <th>WH_regional_zone</th>\n",
       "      <th>num_refill_req_l3m</th>\n",
       "      <th>transport_issue_l1y</th>\n",
       "      <th>Competitor_in_mkt</th>\n",
       "      <th>retail_shop_num</th>\n",
       "      <th>wh_owner_type</th>\n",
       "      <th>distributor_num</th>\n",
       "      <th>flood_impacted</th>\n",
       "      <th>flood_proof</th>\n",
       "      <th>electric_supply</th>\n",
       "      <th>dist_from_hub</th>\n",
       "      <th>workers_num</th>\n",
       "      <th>storage_issue_reported_l3m</th>\n",
       "      <th>temp_reg_mach</th>\n",
       "      <th>approved_wh_govt_certificate</th>\n",
       "      <th>wh_breakdown_l3m</th>\n",
       "      <th>govt_check_l3m</th>\n",
       "    </tr>\n",
       "  </thead>\n",
       "  <tbody>\n",
       "    <tr>\n",
       "      <th>0</th>\n",
       "      <td>1</td>\n",
       "      <td>2</td>\n",
       "      <td>3</td>\n",
       "      <td>5</td>\n",
       "      <td>3</td>\n",
       "      <td>1</td>\n",
       "      <td>2</td>\n",
       "      <td>-0.317618</td>\n",
       "      <td>1</td>\n",
       "      <td>-1.146546</td>\n",
       "      <td>0</td>\n",
       "      <td>1</td>\n",
       "      <td>1</td>\n",
       "      <td>-1.156575</td>\n",
       "      <td>0.031681</td>\n",
       "      <td>-0.450876</td>\n",
       "      <td>0</td>\n",
       "      <td>0</td>\n",
       "      <td>5</td>\n",
       "      <td>-0.441634</td>\n",
       "    </tr>\n",
       "    <tr>\n",
       "      <th>1</th>\n",
       "      <td>0</td>\n",
       "      <td>0</td>\n",
       "      <td>1</td>\n",
       "      <td>4</td>\n",
       "      <td>0</td>\n",
       "      <td>0</td>\n",
       "      <td>4</td>\n",
       "      <td>1.297843</td>\n",
       "      <td>0</td>\n",
       "      <td>0.285226</td>\n",
       "      <td>0</td>\n",
       "      <td>0</td>\n",
       "      <td>1</td>\n",
       "      <td>0.740827</td>\n",
       "      <td>0.311916</td>\n",
       "      <td>-1.433309</td>\n",
       "      <td>0</td>\n",
       "      <td>0</td>\n",
       "      <td>3</td>\n",
       "      <td>-0.209944</td>\n",
       "    </tr>\n",
       "    <tr>\n",
       "      <th>2</th>\n",
       "      <td>0</td>\n",
       "      <td>1</td>\n",
       "      <td>2</td>\n",
       "      <td>1</td>\n",
       "      <td>1</td>\n",
       "      <td>0</td>\n",
       "      <td>4</td>\n",
       "      <td>-0.673514</td>\n",
       "      <td>0</td>\n",
       "      <td>1.343493</td>\n",
       "      <td>0</td>\n",
       "      <td>0</td>\n",
       "      <td>0</td>\n",
       "      <td>-0.040456</td>\n",
       "      <td>1.152622</td>\n",
       "      <td>-0.014239</td>\n",
       "      <td>0</td>\n",
       "      <td>0</td>\n",
       "      <td>6</td>\n",
       "      <td>0.369282</td>\n",
       "    </tr>\n",
       "    <tr>\n",
       "      <th>3</th>\n",
       "      <td>0</td>\n",
       "      <td>1</td>\n",
       "      <td>1</td>\n",
       "      <td>2</td>\n",
       "      <td>7</td>\n",
       "      <td>4</td>\n",
       "      <td>2</td>\n",
       "      <td>1.073989</td>\n",
       "      <td>1</td>\n",
       "      <td>0.471979</td>\n",
       "      <td>0</td>\n",
       "      <td>0</td>\n",
       "      <td>0</td>\n",
       "      <td>-0.965240</td>\n",
       "      <td>-1.089261</td>\n",
       "      <td>-0.014239</td>\n",
       "      <td>1</td>\n",
       "      <td>1</td>\n",
       "      <td>3</td>\n",
       "      <td>0.948508</td>\n",
       "    </tr>\n",
       "    <tr>\n",
       "      <th>4</th>\n",
       "      <td>0</td>\n",
       "      <td>0</td>\n",
       "      <td>1</td>\n",
       "      <td>4</td>\n",
       "      <td>3</td>\n",
       "      <td>1</td>\n",
       "      <td>2</td>\n",
       "      <td>-0.225807</td>\n",
       "      <td>0</td>\n",
       "      <td>-0.026028</td>\n",
       "      <td>1</td>\n",
       "      <td>0</td>\n",
       "      <td>1</td>\n",
       "      <td>-0.821739</td>\n",
       "      <td>-0.528790</td>\n",
       "      <td>0.094921</td>\n",
       "      <td>0</td>\n",
       "      <td>4</td>\n",
       "      <td>6</td>\n",
       "      <td>0.600972</td>\n",
       "    </tr>\n",
       "    <tr>\n",
       "      <th>...</th>\n",
       "      <td>...</td>\n",
       "      <td>...</td>\n",
       "      <td>...</td>\n",
       "      <td>...</td>\n",
       "      <td>...</td>\n",
       "      <td>...</td>\n",
       "      <td>...</td>\n",
       "      <td>...</td>\n",
       "      <td>...</td>\n",
       "      <td>...</td>\n",
       "      <td>...</td>\n",
       "      <td>...</td>\n",
       "      <td>...</td>\n",
       "      <td>...</td>\n",
       "      <td>...</td>\n",
       "      <td>...</td>\n",
       "      <td>...</td>\n",
       "      <td>...</td>\n",
       "      <td>...</td>\n",
       "      <td>...</td>\n",
       "    </tr>\n",
       "    <tr>\n",
       "      <th>24995</th>\n",
       "      <td>0</td>\n",
       "      <td>2</td>\n",
       "      <td>1</td>\n",
       "      <td>0</td>\n",
       "      <td>3</td>\n",
       "      <td>0</td>\n",
       "      <td>4</td>\n",
       "      <td>0.444723</td>\n",
       "      <td>1</td>\n",
       "      <td>-1.457801</td>\n",
       "      <td>0</td>\n",
       "      <td>0</td>\n",
       "      <td>1</td>\n",
       "      <td>-0.343403</td>\n",
       "      <td>0.732269</td>\n",
       "      <td>0.531558</td>\n",
       "      <td>1</td>\n",
       "      <td>0</td>\n",
       "      <td>2</td>\n",
       "      <td>1.296044</td>\n",
       "    </tr>\n",
       "    <tr>\n",
       "      <th>24996</th>\n",
       "      <td>0</td>\n",
       "      <td>1</td>\n",
       "      <td>3</td>\n",
       "      <td>1</td>\n",
       "      <td>6</td>\n",
       "      <td>0</td>\n",
       "      <td>4</td>\n",
       "      <td>-0.483703</td>\n",
       "      <td>0</td>\n",
       "      <td>0.907736</td>\n",
       "      <td>0</td>\n",
       "      <td>0</td>\n",
       "      <td>1</td>\n",
       "      <td>-0.534737</td>\n",
       "      <td>-0.108437</td>\n",
       "      <td>-0.778354</td>\n",
       "      <td>0</td>\n",
       "      <td>2</td>\n",
       "      <td>4</td>\n",
       "      <td>-0.094099</td>\n",
       "    </tr>\n",
       "    <tr>\n",
       "      <th>24997</th>\n",
       "      <td>1</td>\n",
       "      <td>0</td>\n",
       "      <td>2</td>\n",
       "      <td>4</td>\n",
       "      <td>7</td>\n",
       "      <td>0</td>\n",
       "      <td>2</td>\n",
       "      <td>0.458134</td>\n",
       "      <td>1</td>\n",
       "      <td>-0.710789</td>\n",
       "      <td>1</td>\n",
       "      <td>0</td>\n",
       "      <td>1</td>\n",
       "      <td>-0.263680</td>\n",
       "      <td>0.023890</td>\n",
       "      <td>0.640717</td>\n",
       "      <td>0</td>\n",
       "      <td>3</td>\n",
       "      <td>5</td>\n",
       "      <td>0.716818</td>\n",
       "    </tr>\n",
       "    <tr>\n",
       "      <th>24998</th>\n",
       "      <td>0</td>\n",
       "      <td>2</td>\n",
       "      <td>1</td>\n",
       "      <td>0</td>\n",
       "      <td>1</td>\n",
       "      <td>0</td>\n",
       "      <td>2</td>\n",
       "      <td>2.394933</td>\n",
       "      <td>1</td>\n",
       "      <td>-1.084295</td>\n",
       "      <td>0</td>\n",
       "      <td>0</td>\n",
       "      <td>1</td>\n",
       "      <td>-1.650856</td>\n",
       "      <td>-0.528790</td>\n",
       "      <td>0.094921</td>\n",
       "      <td>0</td>\n",
       "      <td>0</td>\n",
       "      <td>6</td>\n",
       "      <td>1.296044</td>\n",
       "    </tr>\n",
       "    <tr>\n",
       "      <th>24999</th>\n",
       "      <td>0</td>\n",
       "      <td>1</td>\n",
       "      <td>3</td>\n",
       "      <td>3</td>\n",
       "      <td>8</td>\n",
       "      <td>2</td>\n",
       "      <td>4</td>\n",
       "      <td>0.727377</td>\n",
       "      <td>0</td>\n",
       "      <td>-1.333299</td>\n",
       "      <td>0</td>\n",
       "      <td>1</td>\n",
       "      <td>1</td>\n",
       "      <td>1.203218</td>\n",
       "      <td>1.432858</td>\n",
       "      <td>-1.433309</td>\n",
       "      <td>0</td>\n",
       "      <td>3</td>\n",
       "      <td>2</td>\n",
       "      <td>-0.905015</td>\n",
       "    </tr>\n",
       "  </tbody>\n",
       "</table>\n",
       "<p>25000 rows × 20 columns</p>\n",
       "</div>"
      ],
      "text/plain": [
       "       Location_type  WH_capacity_size  zone  WH_regional_zone  \\\n",
       "0                  1                 2     3                 5   \n",
       "1                  0                 0     1                 4   \n",
       "2                  0                 1     2                 1   \n",
       "3                  0                 1     1                 2   \n",
       "4                  0                 0     1                 4   \n",
       "...              ...               ...   ...               ...   \n",
       "24995              0                 2     1                 0   \n",
       "24996              0                 1     3                 1   \n",
       "24997              1                 0     2                 4   \n",
       "24998              0                 2     1                 0   \n",
       "24999              0                 1     3                 3   \n",
       "\n",
       "       num_refill_req_l3m  transport_issue_l1y  Competitor_in_mkt  \\\n",
       "0                       3                    1                  2   \n",
       "1                       0                    0                  4   \n",
       "2                       1                    0                  4   \n",
       "3                       7                    4                  2   \n",
       "4                       3                    1                  2   \n",
       "...                   ...                  ...                ...   \n",
       "24995                   3                    0                  4   \n",
       "24996                   6                    0                  4   \n",
       "24997                   7                    0                  2   \n",
       "24998                   1                    0                  2   \n",
       "24999                   8                    2                  4   \n",
       "\n",
       "       retail_shop_num  wh_owner_type  distributor_num  flood_impacted  \\\n",
       "0            -0.317618              1        -1.146546               0   \n",
       "1             1.297843              0         0.285226               0   \n",
       "2            -0.673514              0         1.343493               0   \n",
       "3             1.073989              1         0.471979               0   \n",
       "4            -0.225807              0        -0.026028               1   \n",
       "...                ...            ...              ...             ...   \n",
       "24995         0.444723              1        -1.457801               0   \n",
       "24996        -0.483703              0         0.907736               0   \n",
       "24997         0.458134              1        -0.710789               1   \n",
       "24998         2.394933              1        -1.084295               0   \n",
       "24999         0.727377              0        -1.333299               0   \n",
       "\n",
       "       flood_proof  electric_supply  dist_from_hub  workers_num  \\\n",
       "0                1                1      -1.156575     0.031681   \n",
       "1                0                1       0.740827     0.311916   \n",
       "2                0                0      -0.040456     1.152622   \n",
       "3                0                0      -0.965240    -1.089261   \n",
       "4                0                1      -0.821739    -0.528790   \n",
       "...            ...              ...            ...          ...   \n",
       "24995            0                1      -0.343403     0.732269   \n",
       "24996            0                1      -0.534737    -0.108437   \n",
       "24997            0                1      -0.263680     0.023890   \n",
       "24998            0                1      -1.650856    -0.528790   \n",
       "24999            1                1       1.203218     1.432858   \n",
       "\n",
       "       storage_issue_reported_l3m  temp_reg_mach  \\\n",
       "0                       -0.450876              0   \n",
       "1                       -1.433309              0   \n",
       "2                       -0.014239              0   \n",
       "3                       -0.014239              1   \n",
       "4                        0.094921              0   \n",
       "...                           ...            ...   \n",
       "24995                    0.531558              1   \n",
       "24996                   -0.778354              0   \n",
       "24997                    0.640717              0   \n",
       "24998                    0.094921              0   \n",
       "24999                   -1.433309              0   \n",
       "\n",
       "       approved_wh_govt_certificate  wh_breakdown_l3m  govt_check_l3m  \n",
       "0                                 0                 5       -0.441634  \n",
       "1                                 0                 3       -0.209944  \n",
       "2                                 0                 6        0.369282  \n",
       "3                                 1                 3        0.948508  \n",
       "4                                 4                 6        0.600972  \n",
       "...                             ...               ...             ...  \n",
       "24995                             0                 2        1.296044  \n",
       "24996                             2                 4       -0.094099  \n",
       "24997                             3                 5        0.716818  \n",
       "24998                             0                 6        1.296044  \n",
       "24999                             3                 2       -0.905015  \n",
       "\n",
       "[25000 rows x 20 columns]"
      ]
     },
     "execution_count": 25,
     "metadata": {},
     "output_type": "execute_result"
    }
   ],
   "source": [
    "X"
   ]
  },
  {
   "cell_type": "markdown",
   "id": "6650f66d",
   "metadata": {},
   "source": [
    "### Recursive Feature Selection Done in Project Notes 1 is converted into List"
   ]
  },
  {
   "cell_type": "code",
   "execution_count": 26,
   "id": "b6850794",
   "metadata": {},
   "outputs": [],
   "source": [
    "# Assuming you have a list of indices named indices_list\n",
    "indices_list = [\n",
    "    ['retail_shop_num', 'storage_issue_reported_l3m', 'approved_wh_govt_certificate'],\n",
    "    ['retail_shop_num', 'dist_from_hub', 'storage_issue_reported_l3m', 'approved_wh_govt_certificate'],\n",
    "    ['retail_shop_num', 'distributor_num', 'dist_from_hub', 'storage_issue_reported_l3m', 'approved_wh_govt_certificate'],\n",
    "    ['retail_shop_num', 'distributor_num', 'dist_from_hub', 'workers_num', 'storage_issue_reported_l3m', 'approved_wh_govt_certificate'],\n",
    "    ['retail_shop_num', 'distributor_num', 'dist_from_hub', 'workers_num', 'storage_issue_reported_l3m', 'approved_wh_govt_certificate', 'govt_check_l3m'],\n",
    "    ['transport_issue_l1y', 'retail_shop_num', 'distributor_num', 'dist_from_hub', 'workers_num', 'storage_issue_reported_l3m', 'approved_wh_govt_certificate', 'govt_check_l3m'],\n",
    "    ['transport_issue_l1y', 'retail_shop_num', 'distributor_num', 'dist_from_hub', 'workers_num', 'storage_issue_reported_l3m', 'temp_reg_mach', 'approved_wh_govt_certificate', 'govt_check_l3m'],\n",
    "    ['num_refill_req_l3m', 'transport_issue_l1y', 'retail_shop_num', 'distributor_num', 'dist_from_hub', 'workers_num', 'storage_issue_reported_l3m', 'temp_reg_mach', 'approved_wh_govt_certificate', 'govt_check_l3m'],\n",
    "    ['num_refill_req_l3m', 'transport_issue_l1y', 'retail_shop_num', 'distributor_num', 'dist_from_hub', 'workers_num', 'storage_issue_reported_l3m', 'temp_reg_mach', 'approved_wh_govt_certificate', 'wh_breakdown_l3m', 'govt_check_l3m']\n",
    "]\n",
    "\n",
    "# Create variables dynamically to store dataframes\n",
    "for i, index_set in enumerate(indices_list, start=3):  # Start from X_3\n",
    "    vars()[f'X_{i}'] = df[index_set]\n"
   ]
  },
  {
   "cell_type": "markdown",
   "id": "b0e27968",
   "metadata": {},
   "source": [
    "## KMeans Clustering and Labeling"
   ]
  },
  {
   "cell_type": "code",
   "execution_count": 27,
   "id": "4c49ec2f",
   "metadata": {},
   "outputs": [
    {
     "data": {
      "text/html": [
       "<style>#sk-container-id-1 {color: black;background-color: white;}#sk-container-id-1 pre{padding: 0;}#sk-container-id-1 div.sk-toggleable {background-color: white;}#sk-container-id-1 label.sk-toggleable__label {cursor: pointer;display: block;width: 100%;margin-bottom: 0;padding: 0.3em;box-sizing: border-box;text-align: center;}#sk-container-id-1 label.sk-toggleable__label-arrow:before {content: \"▸\";float: left;margin-right: 0.25em;color: #696969;}#sk-container-id-1 label.sk-toggleable__label-arrow:hover:before {color: black;}#sk-container-id-1 div.sk-estimator:hover label.sk-toggleable__label-arrow:before {color: black;}#sk-container-id-1 div.sk-toggleable__content {max-height: 0;max-width: 0;overflow: hidden;text-align: left;background-color: #f0f8ff;}#sk-container-id-1 div.sk-toggleable__content pre {margin: 0.2em;color: black;border-radius: 0.25em;background-color: #f0f8ff;}#sk-container-id-1 input.sk-toggleable__control:checked~div.sk-toggleable__content {max-height: 200px;max-width: 100%;overflow: auto;}#sk-container-id-1 input.sk-toggleable__control:checked~label.sk-toggleable__label-arrow:before {content: \"▾\";}#sk-container-id-1 div.sk-estimator input.sk-toggleable__control:checked~label.sk-toggleable__label {background-color: #d4ebff;}#sk-container-id-1 div.sk-label input.sk-toggleable__control:checked~label.sk-toggleable__label {background-color: #d4ebff;}#sk-container-id-1 input.sk-hidden--visually {border: 0;clip: rect(1px 1px 1px 1px);clip: rect(1px, 1px, 1px, 1px);height: 1px;margin: -1px;overflow: hidden;padding: 0;position: absolute;width: 1px;}#sk-container-id-1 div.sk-estimator {font-family: monospace;background-color: #f0f8ff;border: 1px dotted black;border-radius: 0.25em;box-sizing: border-box;margin-bottom: 0.5em;}#sk-container-id-1 div.sk-estimator:hover {background-color: #d4ebff;}#sk-container-id-1 div.sk-parallel-item::after {content: \"\";width: 100%;border-bottom: 1px solid gray;flex-grow: 1;}#sk-container-id-1 div.sk-label:hover label.sk-toggleable__label {background-color: #d4ebff;}#sk-container-id-1 div.sk-serial::before {content: \"\";position: absolute;border-left: 1px solid gray;box-sizing: border-box;top: 0;bottom: 0;left: 50%;z-index: 0;}#sk-container-id-1 div.sk-serial {display: flex;flex-direction: column;align-items: center;background-color: white;padding-right: 0.2em;padding-left: 0.2em;position: relative;}#sk-container-id-1 div.sk-item {position: relative;z-index: 1;}#sk-container-id-1 div.sk-parallel {display: flex;align-items: stretch;justify-content: center;background-color: white;position: relative;}#sk-container-id-1 div.sk-item::before, #sk-container-id-1 div.sk-parallel-item::before {content: \"\";position: absolute;border-left: 1px solid gray;box-sizing: border-box;top: 0;bottom: 0;left: 50%;z-index: -1;}#sk-container-id-1 div.sk-parallel-item {display: flex;flex-direction: column;z-index: 1;position: relative;background-color: white;}#sk-container-id-1 div.sk-parallel-item:first-child::after {align-self: flex-end;width: 50%;}#sk-container-id-1 div.sk-parallel-item:last-child::after {align-self: flex-start;width: 50%;}#sk-container-id-1 div.sk-parallel-item:only-child::after {width: 0;}#sk-container-id-1 div.sk-dashed-wrapped {border: 1px dashed gray;margin: 0 0.4em 0.5em 0.4em;box-sizing: border-box;padding-bottom: 0.4em;background-color: white;}#sk-container-id-1 div.sk-label label {font-family: monospace;font-weight: bold;display: inline-block;line-height: 1.2em;}#sk-container-id-1 div.sk-label-container {text-align: center;}#sk-container-id-1 div.sk-container {/* jupyter's `normalize.less` sets `[hidden] { display: none; }` but bootstrap.min.css set `[hidden] { display: none !important; }` so we also need the `!important` here to be able to override the default hidden behavior on the sphinx rendered scikit-learn.org. See: https://github.com/scikit-learn/scikit-learn/issues/21755 */display: inline-block !important;position: relative;}#sk-container-id-1 div.sk-text-repr-fallback {display: none;}</style><div id=\"sk-container-id-1\" class=\"sk-top-container\"><div class=\"sk-text-repr-fallback\"><pre>KMeans(n_clusters=3, random_state=42)</pre><b>In a Jupyter environment, please rerun this cell to show the HTML representation or trust the notebook. <br />On GitHub, the HTML representation is unable to render, please try loading this page with nbviewer.org.</b></div><div class=\"sk-container\" hidden><div class=\"sk-item\"><div class=\"sk-estimator sk-toggleable\"><input class=\"sk-toggleable__control sk-hidden--visually\" id=\"sk-estimator-id-1\" type=\"checkbox\" checked><label for=\"sk-estimator-id-1\" class=\"sk-toggleable__label sk-toggleable__label-arrow\">KMeans</label><div class=\"sk-toggleable__content\"><pre>KMeans(n_clusters=3, random_state=42)</pre></div></div></div></div></div>"
      ],
      "text/plain": [
       "KMeans(n_clusters=3, random_state=42)"
      ]
     },
     "execution_count": 27,
     "metadata": {},
     "output_type": "execute_result"
    }
   ],
   "source": [
    "kmeans = KMeans(n_clusters=3, random_state=42)\n",
    "    \n",
    "# Fit KMeans to the data\n",
    "kmeans.fit(X_6)"
   ]
  },
  {
   "cell_type": "code",
   "execution_count": 28,
   "id": "3d98cea4",
   "metadata": {},
   "outputs": [],
   "source": [
    "cluster_labels = kmeans.labels_"
   ]
  },
  {
   "cell_type": "code",
   "execution_count": 29,
   "id": "d0e409a8",
   "metadata": {},
   "outputs": [],
   "source": [
    "clustered_df = X.copy()"
   ]
  },
  {
   "cell_type": "code",
   "execution_count": 30,
   "id": "a32d6361",
   "metadata": {},
   "outputs": [],
   "source": [
    "clustered_df['product_wg_ton'] = target"
   ]
  },
  {
   "cell_type": "code",
   "execution_count": 31,
   "id": "2faaeae3",
   "metadata": {},
   "outputs": [],
   "source": [
    "clustered_df['Cluster'] = cluster_labels"
   ]
  },
  {
   "cell_type": "code",
   "execution_count": 32,
   "id": "99068aa9",
   "metadata": {},
   "outputs": [
    {
     "data": {
      "text/html": [
       "<div>\n",
       "<style scoped>\n",
       "    .dataframe tbody tr th:only-of-type {\n",
       "        vertical-align: middle;\n",
       "    }\n",
       "\n",
       "    .dataframe tbody tr th {\n",
       "        vertical-align: top;\n",
       "    }\n",
       "\n",
       "    .dataframe thead th {\n",
       "        text-align: right;\n",
       "    }\n",
       "</style>\n",
       "<table border=\"1\" class=\"dataframe\">\n",
       "  <thead>\n",
       "    <tr style=\"text-align: right;\">\n",
       "      <th></th>\n",
       "      <th>Location_type</th>\n",
       "      <th>WH_capacity_size</th>\n",
       "      <th>zone</th>\n",
       "      <th>WH_regional_zone</th>\n",
       "      <th>num_refill_req_l3m</th>\n",
       "      <th>transport_issue_l1y</th>\n",
       "      <th>Competitor_in_mkt</th>\n",
       "      <th>retail_shop_num</th>\n",
       "      <th>wh_owner_type</th>\n",
       "      <th>distributor_num</th>\n",
       "      <th>...</th>\n",
       "      <th>electric_supply</th>\n",
       "      <th>dist_from_hub</th>\n",
       "      <th>workers_num</th>\n",
       "      <th>storage_issue_reported_l3m</th>\n",
       "      <th>temp_reg_mach</th>\n",
       "      <th>approved_wh_govt_certificate</th>\n",
       "      <th>wh_breakdown_l3m</th>\n",
       "      <th>govt_check_l3m</th>\n",
       "      <th>product_wg_ton</th>\n",
       "      <th>Cluster</th>\n",
       "    </tr>\n",
       "  </thead>\n",
       "  <tbody>\n",
       "    <tr>\n",
       "      <th>0</th>\n",
       "      <td>1</td>\n",
       "      <td>2</td>\n",
       "      <td>3</td>\n",
       "      <td>5</td>\n",
       "      <td>3</td>\n",
       "      <td>1</td>\n",
       "      <td>2</td>\n",
       "      <td>-0.317618</td>\n",
       "      <td>1</td>\n",
       "      <td>-1.146546</td>\n",
       "      <td>...</td>\n",
       "      <td>1</td>\n",
       "      <td>-1.156575</td>\n",
       "      <td>0.031681</td>\n",
       "      <td>-0.450876</td>\n",
       "      <td>0</td>\n",
       "      <td>0</td>\n",
       "      <td>5</td>\n",
       "      <td>-0.441634</td>\n",
       "      <td>17115</td>\n",
       "      <td>1</td>\n",
       "    </tr>\n",
       "    <tr>\n",
       "      <th>1</th>\n",
       "      <td>0</td>\n",
       "      <td>0</td>\n",
       "      <td>1</td>\n",
       "      <td>4</td>\n",
       "      <td>0</td>\n",
       "      <td>0</td>\n",
       "      <td>4</td>\n",
       "      <td>1.297843</td>\n",
       "      <td>0</td>\n",
       "      <td>0.285226</td>\n",
       "      <td>...</td>\n",
       "      <td>1</td>\n",
       "      <td>0.740827</td>\n",
       "      <td>0.311916</td>\n",
       "      <td>-1.433309</td>\n",
       "      <td>0</td>\n",
       "      <td>0</td>\n",
       "      <td>3</td>\n",
       "      <td>-0.209944</td>\n",
       "      <td>5074</td>\n",
       "      <td>1</td>\n",
       "    </tr>\n",
       "    <tr>\n",
       "      <th>2</th>\n",
       "      <td>0</td>\n",
       "      <td>1</td>\n",
       "      <td>2</td>\n",
       "      <td>1</td>\n",
       "      <td>1</td>\n",
       "      <td>0</td>\n",
       "      <td>4</td>\n",
       "      <td>-0.673514</td>\n",
       "      <td>0</td>\n",
       "      <td>1.343493</td>\n",
       "      <td>...</td>\n",
       "      <td>0</td>\n",
       "      <td>-0.040456</td>\n",
       "      <td>1.152622</td>\n",
       "      <td>-0.014239</td>\n",
       "      <td>0</td>\n",
       "      <td>0</td>\n",
       "      <td>6</td>\n",
       "      <td>0.369282</td>\n",
       "      <td>23137</td>\n",
       "      <td>1</td>\n",
       "    </tr>\n",
       "    <tr>\n",
       "      <th>3</th>\n",
       "      <td>0</td>\n",
       "      <td>1</td>\n",
       "      <td>1</td>\n",
       "      <td>2</td>\n",
       "      <td>7</td>\n",
       "      <td>4</td>\n",
       "      <td>2</td>\n",
       "      <td>1.073989</td>\n",
       "      <td>1</td>\n",
       "      <td>0.471979</td>\n",
       "      <td>...</td>\n",
       "      <td>0</td>\n",
       "      <td>-0.965240</td>\n",
       "      <td>-1.089261</td>\n",
       "      <td>-0.014239</td>\n",
       "      <td>1</td>\n",
       "      <td>1</td>\n",
       "      <td>3</td>\n",
       "      <td>0.948508</td>\n",
       "      <td>22115</td>\n",
       "      <td>1</td>\n",
       "    </tr>\n",
       "    <tr>\n",
       "      <th>4</th>\n",
       "      <td>0</td>\n",
       "      <td>0</td>\n",
       "      <td>1</td>\n",
       "      <td>4</td>\n",
       "      <td>3</td>\n",
       "      <td>1</td>\n",
       "      <td>2</td>\n",
       "      <td>-0.225807</td>\n",
       "      <td>0</td>\n",
       "      <td>-0.026028</td>\n",
       "      <td>...</td>\n",
       "      <td>1</td>\n",
       "      <td>-0.821739</td>\n",
       "      <td>-0.528790</td>\n",
       "      <td>0.094921</td>\n",
       "      <td>0</td>\n",
       "      <td>4</td>\n",
       "      <td>6</td>\n",
       "      <td>0.600972</td>\n",
       "      <td>24071</td>\n",
       "      <td>0</td>\n",
       "    </tr>\n",
       "    <tr>\n",
       "      <th>...</th>\n",
       "      <td>...</td>\n",
       "      <td>...</td>\n",
       "      <td>...</td>\n",
       "      <td>...</td>\n",
       "      <td>...</td>\n",
       "      <td>...</td>\n",
       "      <td>...</td>\n",
       "      <td>...</td>\n",
       "      <td>...</td>\n",
       "      <td>...</td>\n",
       "      <td>...</td>\n",
       "      <td>...</td>\n",
       "      <td>...</td>\n",
       "      <td>...</td>\n",
       "      <td>...</td>\n",
       "      <td>...</td>\n",
       "      <td>...</td>\n",
       "      <td>...</td>\n",
       "      <td>...</td>\n",
       "      <td>...</td>\n",
       "      <td>...</td>\n",
       "    </tr>\n",
       "    <tr>\n",
       "      <th>24995</th>\n",
       "      <td>0</td>\n",
       "      <td>2</td>\n",
       "      <td>1</td>\n",
       "      <td>0</td>\n",
       "      <td>3</td>\n",
       "      <td>0</td>\n",
       "      <td>4</td>\n",
       "      <td>0.444723</td>\n",
       "      <td>1</td>\n",
       "      <td>-1.457801</td>\n",
       "      <td>...</td>\n",
       "      <td>1</td>\n",
       "      <td>-0.343403</td>\n",
       "      <td>0.732269</td>\n",
       "      <td>0.531558</td>\n",
       "      <td>1</td>\n",
       "      <td>0</td>\n",
       "      <td>2</td>\n",
       "      <td>1.296044</td>\n",
       "      <td>32093</td>\n",
       "      <td>1</td>\n",
       "    </tr>\n",
       "    <tr>\n",
       "      <th>24996</th>\n",
       "      <td>0</td>\n",
       "      <td>1</td>\n",
       "      <td>3</td>\n",
       "      <td>1</td>\n",
       "      <td>6</td>\n",
       "      <td>0</td>\n",
       "      <td>4</td>\n",
       "      <td>-0.483703</td>\n",
       "      <td>0</td>\n",
       "      <td>0.907736</td>\n",
       "      <td>...</td>\n",
       "      <td>1</td>\n",
       "      <td>-0.534737</td>\n",
       "      <td>-0.108437</td>\n",
       "      <td>-0.778354</td>\n",
       "      <td>0</td>\n",
       "      <td>2</td>\n",
       "      <td>4</td>\n",
       "      <td>-0.094099</td>\n",
       "      <td>12114</td>\n",
       "      <td>2</td>\n",
       "    </tr>\n",
       "    <tr>\n",
       "      <th>24997</th>\n",
       "      <td>1</td>\n",
       "      <td>0</td>\n",
       "      <td>2</td>\n",
       "      <td>4</td>\n",
       "      <td>7</td>\n",
       "      <td>0</td>\n",
       "      <td>2</td>\n",
       "      <td>0.458134</td>\n",
       "      <td>1</td>\n",
       "      <td>-0.710789</td>\n",
       "      <td>...</td>\n",
       "      <td>1</td>\n",
       "      <td>-0.263680</td>\n",
       "      <td>0.023890</td>\n",
       "      <td>0.640717</td>\n",
       "      <td>0</td>\n",
       "      <td>3</td>\n",
       "      <td>5</td>\n",
       "      <td>0.716818</td>\n",
       "      <td>27080</td>\n",
       "      <td>0</td>\n",
       "    </tr>\n",
       "    <tr>\n",
       "      <th>24998</th>\n",
       "      <td>0</td>\n",
       "      <td>2</td>\n",
       "      <td>1</td>\n",
       "      <td>0</td>\n",
       "      <td>1</td>\n",
       "      <td>0</td>\n",
       "      <td>2</td>\n",
       "      <td>2.394933</td>\n",
       "      <td>1</td>\n",
       "      <td>-1.084295</td>\n",
       "      <td>...</td>\n",
       "      <td>1</td>\n",
       "      <td>-1.650856</td>\n",
       "      <td>-0.528790</td>\n",
       "      <td>0.094921</td>\n",
       "      <td>0</td>\n",
       "      <td>0</td>\n",
       "      <td>6</td>\n",
       "      <td>1.296044</td>\n",
       "      <td>25093</td>\n",
       "      <td>1</td>\n",
       "    </tr>\n",
       "    <tr>\n",
       "      <th>24999</th>\n",
       "      <td>0</td>\n",
       "      <td>1</td>\n",
       "      <td>3</td>\n",
       "      <td>3</td>\n",
       "      <td>8</td>\n",
       "      <td>2</td>\n",
       "      <td>4</td>\n",
       "      <td>0.727377</td>\n",
       "      <td>0</td>\n",
       "      <td>-1.333299</td>\n",
       "      <td>...</td>\n",
       "      <td>1</td>\n",
       "      <td>1.203218</td>\n",
       "      <td>1.432858</td>\n",
       "      <td>-1.433309</td>\n",
       "      <td>0</td>\n",
       "      <td>3</td>\n",
       "      <td>2</td>\n",
       "      <td>-0.905015</td>\n",
       "      <td>5058</td>\n",
       "      <td>2</td>\n",
       "    </tr>\n",
       "  </tbody>\n",
       "</table>\n",
       "<p>25000 rows × 22 columns</p>\n",
       "</div>"
      ],
      "text/plain": [
       "       Location_type  WH_capacity_size  zone  WH_regional_zone  \\\n",
       "0                  1                 2     3                 5   \n",
       "1                  0                 0     1                 4   \n",
       "2                  0                 1     2                 1   \n",
       "3                  0                 1     1                 2   \n",
       "4                  0                 0     1                 4   \n",
       "...              ...               ...   ...               ...   \n",
       "24995              0                 2     1                 0   \n",
       "24996              0                 1     3                 1   \n",
       "24997              1                 0     2                 4   \n",
       "24998              0                 2     1                 0   \n",
       "24999              0                 1     3                 3   \n",
       "\n",
       "       num_refill_req_l3m  transport_issue_l1y  Competitor_in_mkt  \\\n",
       "0                       3                    1                  2   \n",
       "1                       0                    0                  4   \n",
       "2                       1                    0                  4   \n",
       "3                       7                    4                  2   \n",
       "4                       3                    1                  2   \n",
       "...                   ...                  ...                ...   \n",
       "24995                   3                    0                  4   \n",
       "24996                   6                    0                  4   \n",
       "24997                   7                    0                  2   \n",
       "24998                   1                    0                  2   \n",
       "24999                   8                    2                  4   \n",
       "\n",
       "       retail_shop_num  wh_owner_type  distributor_num  ...  electric_supply  \\\n",
       "0            -0.317618              1        -1.146546  ...                1   \n",
       "1             1.297843              0         0.285226  ...                1   \n",
       "2            -0.673514              0         1.343493  ...                0   \n",
       "3             1.073989              1         0.471979  ...                0   \n",
       "4            -0.225807              0        -0.026028  ...                1   \n",
       "...                ...            ...              ...  ...              ...   \n",
       "24995         0.444723              1        -1.457801  ...                1   \n",
       "24996        -0.483703              0         0.907736  ...                1   \n",
       "24997         0.458134              1        -0.710789  ...                1   \n",
       "24998         2.394933              1        -1.084295  ...                1   \n",
       "24999         0.727377              0        -1.333299  ...                1   \n",
       "\n",
       "       dist_from_hub  workers_num  storage_issue_reported_l3m  temp_reg_mach  \\\n",
       "0          -1.156575     0.031681                   -0.450876              0   \n",
       "1           0.740827     0.311916                   -1.433309              0   \n",
       "2          -0.040456     1.152622                   -0.014239              0   \n",
       "3          -0.965240    -1.089261                   -0.014239              1   \n",
       "4          -0.821739    -0.528790                    0.094921              0   \n",
       "...              ...          ...                         ...            ...   \n",
       "24995      -0.343403     0.732269                    0.531558              1   \n",
       "24996      -0.534737    -0.108437                   -0.778354              0   \n",
       "24997      -0.263680     0.023890                    0.640717              0   \n",
       "24998      -1.650856    -0.528790                    0.094921              0   \n",
       "24999       1.203218     1.432858                   -1.433309              0   \n",
       "\n",
       "       approved_wh_govt_certificate  wh_breakdown_l3m  govt_check_l3m  \\\n",
       "0                                 0                 5       -0.441634   \n",
       "1                                 0                 3       -0.209944   \n",
       "2                                 0                 6        0.369282   \n",
       "3                                 1                 3        0.948508   \n",
       "4                                 4                 6        0.600972   \n",
       "...                             ...               ...             ...   \n",
       "24995                             0                 2        1.296044   \n",
       "24996                             2                 4       -0.094099   \n",
       "24997                             3                 5        0.716818   \n",
       "24998                             0                 6        1.296044   \n",
       "24999                             3                 2       -0.905015   \n",
       "\n",
       "       product_wg_ton  Cluster  \n",
       "0               17115        1  \n",
       "1                5074        1  \n",
       "2               23137        1  \n",
       "3               22115        1  \n",
       "4               24071        0  \n",
       "...               ...      ...  \n",
       "24995           32093        1  \n",
       "24996           12114        2  \n",
       "24997           27080        0  \n",
       "24998           25093        1  \n",
       "24999            5058        2  \n",
       "\n",
       "[25000 rows x 22 columns]"
      ]
     },
     "execution_count": 32,
     "metadata": {},
     "output_type": "execute_result"
    }
   ],
   "source": [
    "clustered_df"
   ]
  },
  {
   "cell_type": "markdown",
   "id": "6ce7f997",
   "metadata": {},
   "source": [
    "## Inverse Encoding and Scaling"
   ]
  },
  {
   "cell_type": "code",
   "execution_count": 33,
   "id": "ad67fbf8",
   "metadata": {},
   "outputs": [],
   "source": [
    "inv_cat = X[cat_order]\n",
    "inv_num = X[num_order]"
   ]
  },
  {
   "cell_type": "code",
   "execution_count": 34,
   "id": "b22c6c35",
   "metadata": {
    "scrolled": false
   },
   "outputs": [],
   "source": [
    "# Create a copy of the DataFrame to avoid SettingWithCopyWarning\n",
    "inv_cat_copy = inv_cat.copy()\n",
    "\n",
    "# Perform inverse transformation for each column\n",
    "for column, encoder in label_encoders.items():\n",
    "    # Inverse transform the numerical labels back to categorical labels\n",
    "    inv_cat_copy.loc[:, column] = encoder.inverse_transform(inv_cat_copy[column])"
   ]
  },
  {
   "cell_type": "code",
   "execution_count": 35,
   "id": "791b0ba2",
   "metadata": {},
   "outputs": [],
   "source": [
    "# Perform inverse scaling\n",
    "inv_num = pd.DataFrame(scaler.inverse_transform(inv_num), columns=inv_num.columns)"
   ]
  },
  {
   "cell_type": "code",
   "execution_count": 36,
   "id": "9d46c0f4",
   "metadata": {},
   "outputs": [],
   "source": [
    "en_X = pd.concat([inv_cat_copy,inv_num],axis = 1)\n",
    "en_X = en_X[df_order]"
   ]
  },
  {
   "cell_type": "code",
   "execution_count": 37,
   "id": "ef880a64",
   "metadata": {},
   "outputs": [],
   "source": [
    "en_X['product_wg_ton'] = target\n",
    "en_X['Cluster'] = cluster_labels"
   ]
  },
  {
   "cell_type": "code",
   "execution_count": 38,
   "id": "adb04b97",
   "metadata": {
    "scrolled": true
   },
   "outputs": [
    {
     "data": {
      "text/html": [
       "<div>\n",
       "<style scoped>\n",
       "    .dataframe tbody tr th:only-of-type {\n",
       "        vertical-align: middle;\n",
       "    }\n",
       "\n",
       "    .dataframe tbody tr th {\n",
       "        vertical-align: top;\n",
       "    }\n",
       "\n",
       "    .dataframe thead th {\n",
       "        text-align: right;\n",
       "    }\n",
       "</style>\n",
       "<table border=\"1\" class=\"dataframe\">\n",
       "  <thead>\n",
       "    <tr style=\"text-align: right;\">\n",
       "      <th></th>\n",
       "      <th>Location_type</th>\n",
       "      <th>WH_capacity_size</th>\n",
       "      <th>zone</th>\n",
       "      <th>WH_regional_zone</th>\n",
       "      <th>num_refill_req_l3m</th>\n",
       "      <th>transport_issue_l1y</th>\n",
       "      <th>Competitor_in_mkt</th>\n",
       "      <th>retail_shop_num</th>\n",
       "      <th>wh_owner_type</th>\n",
       "      <th>distributor_num</th>\n",
       "      <th>...</th>\n",
       "      <th>electric_supply</th>\n",
       "      <th>dist_from_hub</th>\n",
       "      <th>workers_num</th>\n",
       "      <th>storage_issue_reported_l3m</th>\n",
       "      <th>temp_reg_mach</th>\n",
       "      <th>approved_wh_govt_certificate</th>\n",
       "      <th>wh_breakdown_l3m</th>\n",
       "      <th>govt_check_l3m</th>\n",
       "      <th>product_wg_ton</th>\n",
       "      <th>Cluster</th>\n",
       "    </tr>\n",
       "  </thead>\n",
       "  <tbody>\n",
       "    <tr>\n",
       "      <th>0</th>\n",
       "      <td>Urban</td>\n",
       "      <td>Small</td>\n",
       "      <td>West</td>\n",
       "      <td>Zone 6</td>\n",
       "      <td>3</td>\n",
       "      <td>1</td>\n",
       "      <td>2</td>\n",
       "      <td>4651.0</td>\n",
       "      <td>Rented</td>\n",
       "      <td>24.0</td>\n",
       "      <td>...</td>\n",
       "      <td>1</td>\n",
       "      <td>91.0</td>\n",
       "      <td>29.000000</td>\n",
       "      <td>13.0</td>\n",
       "      <td>0</td>\n",
       "      <td>A</td>\n",
       "      <td>5</td>\n",
       "      <td>15.0</td>\n",
       "      <td>17115</td>\n",
       "      <td>1</td>\n",
       "    </tr>\n",
       "    <tr>\n",
       "      <th>1</th>\n",
       "      <td>Rural</td>\n",
       "      <td>Large</td>\n",
       "      <td>North</td>\n",
       "      <td>Zone 5</td>\n",
       "      <td>0</td>\n",
       "      <td>0</td>\n",
       "      <td>4</td>\n",
       "      <td>6217.0</td>\n",
       "      <td>Company Owned</td>\n",
       "      <td>47.0</td>\n",
       "      <td>...</td>\n",
       "      <td>1</td>\n",
       "      <td>210.0</td>\n",
       "      <td>31.000000</td>\n",
       "      <td>4.0</td>\n",
       "      <td>0</td>\n",
       "      <td>A</td>\n",
       "      <td>3</td>\n",
       "      <td>17.0</td>\n",
       "      <td>5074</td>\n",
       "      <td>1</td>\n",
       "    </tr>\n",
       "    <tr>\n",
       "      <th>2</th>\n",
       "      <td>Rural</td>\n",
       "      <td>Mid</td>\n",
       "      <td>South</td>\n",
       "      <td>Zone 2</td>\n",
       "      <td>1</td>\n",
       "      <td>0</td>\n",
       "      <td>4</td>\n",
       "      <td>4306.0</td>\n",
       "      <td>Company Owned</td>\n",
       "      <td>64.0</td>\n",
       "      <td>...</td>\n",
       "      <td>0</td>\n",
       "      <td>161.0</td>\n",
       "      <td>37.000000</td>\n",
       "      <td>17.0</td>\n",
       "      <td>0</td>\n",
       "      <td>A</td>\n",
       "      <td>6</td>\n",
       "      <td>22.0</td>\n",
       "      <td>23137</td>\n",
       "      <td>1</td>\n",
       "    </tr>\n",
       "    <tr>\n",
       "      <th>3</th>\n",
       "      <td>Rural</td>\n",
       "      <td>Mid</td>\n",
       "      <td>North</td>\n",
       "      <td>Zone 3</td>\n",
       "      <td>7</td>\n",
       "      <td>4</td>\n",
       "      <td>2</td>\n",
       "      <td>6000.0</td>\n",
       "      <td>Rented</td>\n",
       "      <td>50.0</td>\n",
       "      <td>...</td>\n",
       "      <td>0</td>\n",
       "      <td>103.0</td>\n",
       "      <td>21.000000</td>\n",
       "      <td>17.0</td>\n",
       "      <td>1</td>\n",
       "      <td>A+</td>\n",
       "      <td>3</td>\n",
       "      <td>27.0</td>\n",
       "      <td>22115</td>\n",
       "      <td>1</td>\n",
       "    </tr>\n",
       "    <tr>\n",
       "      <th>4</th>\n",
       "      <td>Rural</td>\n",
       "      <td>Large</td>\n",
       "      <td>North</td>\n",
       "      <td>Zone 5</td>\n",
       "      <td>3</td>\n",
       "      <td>1</td>\n",
       "      <td>2</td>\n",
       "      <td>4740.0</td>\n",
       "      <td>Company Owned</td>\n",
       "      <td>42.0</td>\n",
       "      <td>...</td>\n",
       "      <td>1</td>\n",
       "      <td>112.0</td>\n",
       "      <td>25.000000</td>\n",
       "      <td>18.0</td>\n",
       "      <td>0</td>\n",
       "      <td>C</td>\n",
       "      <td>6</td>\n",
       "      <td>24.0</td>\n",
       "      <td>24071</td>\n",
       "      <td>0</td>\n",
       "    </tr>\n",
       "    <tr>\n",
       "      <th>...</th>\n",
       "      <td>...</td>\n",
       "      <td>...</td>\n",
       "      <td>...</td>\n",
       "      <td>...</td>\n",
       "      <td>...</td>\n",
       "      <td>...</td>\n",
       "      <td>...</td>\n",
       "      <td>...</td>\n",
       "      <td>...</td>\n",
       "      <td>...</td>\n",
       "      <td>...</td>\n",
       "      <td>...</td>\n",
       "      <td>...</td>\n",
       "      <td>...</td>\n",
       "      <td>...</td>\n",
       "      <td>...</td>\n",
       "      <td>...</td>\n",
       "      <td>...</td>\n",
       "      <td>...</td>\n",
       "      <td>...</td>\n",
       "      <td>...</td>\n",
       "    </tr>\n",
       "    <tr>\n",
       "      <th>24995</th>\n",
       "      <td>Rural</td>\n",
       "      <td>Small</td>\n",
       "      <td>North</td>\n",
       "      <td>Zone 1</td>\n",
       "      <td>3</td>\n",
       "      <td>0</td>\n",
       "      <td>4</td>\n",
       "      <td>5390.0</td>\n",
       "      <td>Rented</td>\n",
       "      <td>19.0</td>\n",
       "      <td>...</td>\n",
       "      <td>1</td>\n",
       "      <td>142.0</td>\n",
       "      <td>34.000000</td>\n",
       "      <td>22.0</td>\n",
       "      <td>1</td>\n",
       "      <td>A</td>\n",
       "      <td>2</td>\n",
       "      <td>30.0</td>\n",
       "      <td>32093</td>\n",
       "      <td>1</td>\n",
       "    </tr>\n",
       "    <tr>\n",
       "      <th>24996</th>\n",
       "      <td>Rural</td>\n",
       "      <td>Mid</td>\n",
       "      <td>West</td>\n",
       "      <td>Zone 2</td>\n",
       "      <td>6</td>\n",
       "      <td>0</td>\n",
       "      <td>4</td>\n",
       "      <td>4490.0</td>\n",
       "      <td>Company Owned</td>\n",
       "      <td>57.0</td>\n",
       "      <td>...</td>\n",
       "      <td>1</td>\n",
       "      <td>130.0</td>\n",
       "      <td>28.000000</td>\n",
       "      <td>10.0</td>\n",
       "      <td>0</td>\n",
       "      <td>B</td>\n",
       "      <td>4</td>\n",
       "      <td>18.0</td>\n",
       "      <td>12114</td>\n",
       "      <td>2</td>\n",
       "    </tr>\n",
       "    <tr>\n",
       "      <th>24997</th>\n",
       "      <td>Urban</td>\n",
       "      <td>Large</td>\n",
       "      <td>South</td>\n",
       "      <td>Zone 5</td>\n",
       "      <td>7</td>\n",
       "      <td>0</td>\n",
       "      <td>2</td>\n",
       "      <td>5403.0</td>\n",
       "      <td>Rented</td>\n",
       "      <td>31.0</td>\n",
       "      <td>...</td>\n",
       "      <td>1</td>\n",
       "      <td>147.0</td>\n",
       "      <td>28.944398</td>\n",
       "      <td>23.0</td>\n",
       "      <td>0</td>\n",
       "      <td>B+</td>\n",
       "      <td>5</td>\n",
       "      <td>25.0</td>\n",
       "      <td>27080</td>\n",
       "      <td>0</td>\n",
       "    </tr>\n",
       "    <tr>\n",
       "      <th>24998</th>\n",
       "      <td>Rural</td>\n",
       "      <td>Small</td>\n",
       "      <td>North</td>\n",
       "      <td>Zone 1</td>\n",
       "      <td>1</td>\n",
       "      <td>0</td>\n",
       "      <td>2</td>\n",
       "      <td>7280.5</td>\n",
       "      <td>Rented</td>\n",
       "      <td>25.0</td>\n",
       "      <td>...</td>\n",
       "      <td>1</td>\n",
       "      <td>60.0</td>\n",
       "      <td>25.000000</td>\n",
       "      <td>18.0</td>\n",
       "      <td>0</td>\n",
       "      <td>A</td>\n",
       "      <td>6</td>\n",
       "      <td>30.0</td>\n",
       "      <td>25093</td>\n",
       "      <td>1</td>\n",
       "    </tr>\n",
       "    <tr>\n",
       "      <th>24999</th>\n",
       "      <td>Rural</td>\n",
       "      <td>Mid</td>\n",
       "      <td>West</td>\n",
       "      <td>Zone 4</td>\n",
       "      <td>8</td>\n",
       "      <td>2</td>\n",
       "      <td>4</td>\n",
       "      <td>5664.0</td>\n",
       "      <td>Company Owned</td>\n",
       "      <td>21.0</td>\n",
       "      <td>...</td>\n",
       "      <td>1</td>\n",
       "      <td>239.0</td>\n",
       "      <td>39.000000</td>\n",
       "      <td>4.0</td>\n",
       "      <td>0</td>\n",
       "      <td>B+</td>\n",
       "      <td>2</td>\n",
       "      <td>11.0</td>\n",
       "      <td>5058</td>\n",
       "      <td>2</td>\n",
       "    </tr>\n",
       "  </tbody>\n",
       "</table>\n",
       "<p>25000 rows × 22 columns</p>\n",
       "</div>"
      ],
      "text/plain": [
       "      Location_type WH_capacity_size   zone WH_regional_zone  \\\n",
       "0             Urban            Small   West           Zone 6   \n",
       "1             Rural            Large  North           Zone 5   \n",
       "2             Rural              Mid  South           Zone 2   \n",
       "3             Rural              Mid  North           Zone 3   \n",
       "4             Rural            Large  North           Zone 5   \n",
       "...             ...              ...    ...              ...   \n",
       "24995         Rural            Small  North           Zone 1   \n",
       "24996         Rural              Mid   West           Zone 2   \n",
       "24997         Urban            Large  South           Zone 5   \n",
       "24998         Rural            Small  North           Zone 1   \n",
       "24999         Rural              Mid   West           Zone 4   \n",
       "\n",
       "       num_refill_req_l3m  transport_issue_l1y  Competitor_in_mkt  \\\n",
       "0                       3                    1                  2   \n",
       "1                       0                    0                  4   \n",
       "2                       1                    0                  4   \n",
       "3                       7                    4                  2   \n",
       "4                       3                    1                  2   \n",
       "...                   ...                  ...                ...   \n",
       "24995                   3                    0                  4   \n",
       "24996                   6                    0                  4   \n",
       "24997                   7                    0                  2   \n",
       "24998                   1                    0                  2   \n",
       "24999                   8                    2                  4   \n",
       "\n",
       "       retail_shop_num  wh_owner_type  distributor_num  ...  electric_supply  \\\n",
       "0               4651.0         Rented             24.0  ...                1   \n",
       "1               6217.0  Company Owned             47.0  ...                1   \n",
       "2               4306.0  Company Owned             64.0  ...                0   \n",
       "3               6000.0         Rented             50.0  ...                0   \n",
       "4               4740.0  Company Owned             42.0  ...                1   \n",
       "...                ...            ...              ...  ...              ...   \n",
       "24995           5390.0         Rented             19.0  ...                1   \n",
       "24996           4490.0  Company Owned             57.0  ...                1   \n",
       "24997           5403.0         Rented             31.0  ...                1   \n",
       "24998           7280.5         Rented             25.0  ...                1   \n",
       "24999           5664.0  Company Owned             21.0  ...                1   \n",
       "\n",
       "       dist_from_hub  workers_num  storage_issue_reported_l3m  temp_reg_mach  \\\n",
       "0               91.0    29.000000                        13.0              0   \n",
       "1              210.0    31.000000                         4.0              0   \n",
       "2              161.0    37.000000                        17.0              0   \n",
       "3              103.0    21.000000                        17.0              1   \n",
       "4              112.0    25.000000                        18.0              0   \n",
       "...              ...          ...                         ...            ...   \n",
       "24995          142.0    34.000000                        22.0              1   \n",
       "24996          130.0    28.000000                        10.0              0   \n",
       "24997          147.0    28.944398                        23.0              0   \n",
       "24998           60.0    25.000000                        18.0              0   \n",
       "24999          239.0    39.000000                         4.0              0   \n",
       "\n",
       "       approved_wh_govt_certificate  wh_breakdown_l3m govt_check_l3m  \\\n",
       "0                                 A                 5           15.0   \n",
       "1                                 A                 3           17.0   \n",
       "2                                 A                 6           22.0   \n",
       "3                                A+                 3           27.0   \n",
       "4                                 C                 6           24.0   \n",
       "...                             ...               ...            ...   \n",
       "24995                             A                 2           30.0   \n",
       "24996                             B                 4           18.0   \n",
       "24997                            B+                 5           25.0   \n",
       "24998                             A                 6           30.0   \n",
       "24999                            B+                 2           11.0   \n",
       "\n",
       "       product_wg_ton  Cluster  \n",
       "0               17115        1  \n",
       "1                5074        1  \n",
       "2               23137        1  \n",
       "3               22115        1  \n",
       "4               24071        0  \n",
       "...               ...      ...  \n",
       "24995           32093        1  \n",
       "24996           12114        2  \n",
       "24997           27080        0  \n",
       "24998           25093        1  \n",
       "24999            5058        2  \n",
       "\n",
       "[25000 rows x 22 columns]"
      ]
     },
     "execution_count": 38,
     "metadata": {},
     "output_type": "execute_result"
    }
   ],
   "source": [
    "en_X"
   ]
  },
  {
   "cell_type": "code",
   "execution_count": 39,
   "id": "c673b062",
   "metadata": {
    "scrolled": false
   },
   "outputs": [
    {
     "data": {
      "text/plain": [
       "Cluster\n",
       "0    28927.352250\n",
       "1    25349.951253\n",
       "2    10501.161029\n",
       "Name: product_wg_ton, dtype: float64"
      ]
     },
     "execution_count": 39,
     "metadata": {},
     "output_type": "execute_result"
    }
   ],
   "source": [
    "clustered_df.groupby(['Cluster'])['product_wg_ton'].mean()"
   ]
  },
  {
   "cell_type": "code",
   "execution_count": 40,
   "id": "dfedae43",
   "metadata": {},
   "outputs": [],
   "source": [
    "# Specify the file name for the CSV file\n",
    "csv_file_name = \"output_file_3c.xlsx\"\n",
    "\n",
    "# Output the DataFrame to a CSV file in the current directory\n",
    "en_X.to_excel(csv_file_name, index=False)"
   ]
  },
  {
   "cell_type": "code",
   "execution_count": 41,
   "id": "c4f815db",
   "metadata": {
    "scrolled": false
   },
   "outputs": [
    {
     "data": {
      "text/html": [
       "<div>\n",
       "<style scoped>\n",
       "    .dataframe tbody tr th:only-of-type {\n",
       "        vertical-align: middle;\n",
       "    }\n",
       "\n",
       "    .dataframe tbody tr th {\n",
       "        vertical-align: top;\n",
       "    }\n",
       "\n",
       "    .dataframe thead th {\n",
       "        text-align: right;\n",
       "    }\n",
       "</style>\n",
       "<table border=\"1\" class=\"dataframe\">\n",
       "  <thead>\n",
       "    <tr style=\"text-align: right;\">\n",
       "      <th></th>\n",
       "      <th>Location_type</th>\n",
       "      <th>WH_capacity_size</th>\n",
       "      <th>zone</th>\n",
       "      <th>WH_regional_zone</th>\n",
       "      <th>num_refill_req_l3m</th>\n",
       "      <th>transport_issue_l1y</th>\n",
       "      <th>Competitor_in_mkt</th>\n",
       "      <th>retail_shop_num</th>\n",
       "      <th>wh_owner_type</th>\n",
       "      <th>distributor_num</th>\n",
       "      <th>...</th>\n",
       "      <th>electric_supply</th>\n",
       "      <th>dist_from_hub</th>\n",
       "      <th>workers_num</th>\n",
       "      <th>storage_issue_reported_l3m</th>\n",
       "      <th>temp_reg_mach</th>\n",
       "      <th>approved_wh_govt_certificate</th>\n",
       "      <th>wh_breakdown_l3m</th>\n",
       "      <th>govt_check_l3m</th>\n",
       "      <th>product_wg_ton</th>\n",
       "      <th>Cluster</th>\n",
       "    </tr>\n",
       "  </thead>\n",
       "  <tbody>\n",
       "    <tr>\n",
       "      <th>0</th>\n",
       "      <td>1</td>\n",
       "      <td>2</td>\n",
       "      <td>3</td>\n",
       "      <td>5</td>\n",
       "      <td>3</td>\n",
       "      <td>1</td>\n",
       "      <td>2</td>\n",
       "      <td>-0.317618</td>\n",
       "      <td>1</td>\n",
       "      <td>-1.146546</td>\n",
       "      <td>...</td>\n",
       "      <td>1</td>\n",
       "      <td>-1.156575</td>\n",
       "      <td>0.031681</td>\n",
       "      <td>-0.450876</td>\n",
       "      <td>0</td>\n",
       "      <td>0</td>\n",
       "      <td>5</td>\n",
       "      <td>-0.441634</td>\n",
       "      <td>17115</td>\n",
       "      <td>1</td>\n",
       "    </tr>\n",
       "    <tr>\n",
       "      <th>1</th>\n",
       "      <td>0</td>\n",
       "      <td>0</td>\n",
       "      <td>1</td>\n",
       "      <td>4</td>\n",
       "      <td>0</td>\n",
       "      <td>0</td>\n",
       "      <td>4</td>\n",
       "      <td>1.297843</td>\n",
       "      <td>0</td>\n",
       "      <td>0.285226</td>\n",
       "      <td>...</td>\n",
       "      <td>1</td>\n",
       "      <td>0.740827</td>\n",
       "      <td>0.311916</td>\n",
       "      <td>-1.433309</td>\n",
       "      <td>0</td>\n",
       "      <td>0</td>\n",
       "      <td>3</td>\n",
       "      <td>-0.209944</td>\n",
       "      <td>5074</td>\n",
       "      <td>1</td>\n",
       "    </tr>\n",
       "    <tr>\n",
       "      <th>2</th>\n",
       "      <td>0</td>\n",
       "      <td>1</td>\n",
       "      <td>2</td>\n",
       "      <td>1</td>\n",
       "      <td>1</td>\n",
       "      <td>0</td>\n",
       "      <td>4</td>\n",
       "      <td>-0.673514</td>\n",
       "      <td>0</td>\n",
       "      <td>1.343493</td>\n",
       "      <td>...</td>\n",
       "      <td>0</td>\n",
       "      <td>-0.040456</td>\n",
       "      <td>1.152622</td>\n",
       "      <td>-0.014239</td>\n",
       "      <td>0</td>\n",
       "      <td>0</td>\n",
       "      <td>6</td>\n",
       "      <td>0.369282</td>\n",
       "      <td>23137</td>\n",
       "      <td>1</td>\n",
       "    </tr>\n",
       "    <tr>\n",
       "      <th>3</th>\n",
       "      <td>0</td>\n",
       "      <td>1</td>\n",
       "      <td>1</td>\n",
       "      <td>2</td>\n",
       "      <td>7</td>\n",
       "      <td>4</td>\n",
       "      <td>2</td>\n",
       "      <td>1.073989</td>\n",
       "      <td>1</td>\n",
       "      <td>0.471979</td>\n",
       "      <td>...</td>\n",
       "      <td>0</td>\n",
       "      <td>-0.965240</td>\n",
       "      <td>-1.089261</td>\n",
       "      <td>-0.014239</td>\n",
       "      <td>1</td>\n",
       "      <td>1</td>\n",
       "      <td>3</td>\n",
       "      <td>0.948508</td>\n",
       "      <td>22115</td>\n",
       "      <td>1</td>\n",
       "    </tr>\n",
       "    <tr>\n",
       "      <th>4</th>\n",
       "      <td>0</td>\n",
       "      <td>0</td>\n",
       "      <td>1</td>\n",
       "      <td>4</td>\n",
       "      <td>3</td>\n",
       "      <td>1</td>\n",
       "      <td>2</td>\n",
       "      <td>-0.225807</td>\n",
       "      <td>0</td>\n",
       "      <td>-0.026028</td>\n",
       "      <td>...</td>\n",
       "      <td>1</td>\n",
       "      <td>-0.821739</td>\n",
       "      <td>-0.528790</td>\n",
       "      <td>0.094921</td>\n",
       "      <td>0</td>\n",
       "      <td>4</td>\n",
       "      <td>6</td>\n",
       "      <td>0.600972</td>\n",
       "      <td>24071</td>\n",
       "      <td>0</td>\n",
       "    </tr>\n",
       "    <tr>\n",
       "      <th>...</th>\n",
       "      <td>...</td>\n",
       "      <td>...</td>\n",
       "      <td>...</td>\n",
       "      <td>...</td>\n",
       "      <td>...</td>\n",
       "      <td>...</td>\n",
       "      <td>...</td>\n",
       "      <td>...</td>\n",
       "      <td>...</td>\n",
       "      <td>...</td>\n",
       "      <td>...</td>\n",
       "      <td>...</td>\n",
       "      <td>...</td>\n",
       "      <td>...</td>\n",
       "      <td>...</td>\n",
       "      <td>...</td>\n",
       "      <td>...</td>\n",
       "      <td>...</td>\n",
       "      <td>...</td>\n",
       "      <td>...</td>\n",
       "      <td>...</td>\n",
       "    </tr>\n",
       "    <tr>\n",
       "      <th>24995</th>\n",
       "      <td>0</td>\n",
       "      <td>2</td>\n",
       "      <td>1</td>\n",
       "      <td>0</td>\n",
       "      <td>3</td>\n",
       "      <td>0</td>\n",
       "      <td>4</td>\n",
       "      <td>0.444723</td>\n",
       "      <td>1</td>\n",
       "      <td>-1.457801</td>\n",
       "      <td>...</td>\n",
       "      <td>1</td>\n",
       "      <td>-0.343403</td>\n",
       "      <td>0.732269</td>\n",
       "      <td>0.531558</td>\n",
       "      <td>1</td>\n",
       "      <td>0</td>\n",
       "      <td>2</td>\n",
       "      <td>1.296044</td>\n",
       "      <td>32093</td>\n",
       "      <td>1</td>\n",
       "    </tr>\n",
       "    <tr>\n",
       "      <th>24996</th>\n",
       "      <td>0</td>\n",
       "      <td>1</td>\n",
       "      <td>3</td>\n",
       "      <td>1</td>\n",
       "      <td>6</td>\n",
       "      <td>0</td>\n",
       "      <td>4</td>\n",
       "      <td>-0.483703</td>\n",
       "      <td>0</td>\n",
       "      <td>0.907736</td>\n",
       "      <td>...</td>\n",
       "      <td>1</td>\n",
       "      <td>-0.534737</td>\n",
       "      <td>-0.108437</td>\n",
       "      <td>-0.778354</td>\n",
       "      <td>0</td>\n",
       "      <td>2</td>\n",
       "      <td>4</td>\n",
       "      <td>-0.094099</td>\n",
       "      <td>12114</td>\n",
       "      <td>2</td>\n",
       "    </tr>\n",
       "    <tr>\n",
       "      <th>24997</th>\n",
       "      <td>1</td>\n",
       "      <td>0</td>\n",
       "      <td>2</td>\n",
       "      <td>4</td>\n",
       "      <td>7</td>\n",
       "      <td>0</td>\n",
       "      <td>2</td>\n",
       "      <td>0.458134</td>\n",
       "      <td>1</td>\n",
       "      <td>-0.710789</td>\n",
       "      <td>...</td>\n",
       "      <td>1</td>\n",
       "      <td>-0.263680</td>\n",
       "      <td>0.023890</td>\n",
       "      <td>0.640717</td>\n",
       "      <td>0</td>\n",
       "      <td>3</td>\n",
       "      <td>5</td>\n",
       "      <td>0.716818</td>\n",
       "      <td>27080</td>\n",
       "      <td>0</td>\n",
       "    </tr>\n",
       "    <tr>\n",
       "      <th>24998</th>\n",
       "      <td>0</td>\n",
       "      <td>2</td>\n",
       "      <td>1</td>\n",
       "      <td>0</td>\n",
       "      <td>1</td>\n",
       "      <td>0</td>\n",
       "      <td>2</td>\n",
       "      <td>2.394933</td>\n",
       "      <td>1</td>\n",
       "      <td>-1.084295</td>\n",
       "      <td>...</td>\n",
       "      <td>1</td>\n",
       "      <td>-1.650856</td>\n",
       "      <td>-0.528790</td>\n",
       "      <td>0.094921</td>\n",
       "      <td>0</td>\n",
       "      <td>0</td>\n",
       "      <td>6</td>\n",
       "      <td>1.296044</td>\n",
       "      <td>25093</td>\n",
       "      <td>1</td>\n",
       "    </tr>\n",
       "    <tr>\n",
       "      <th>24999</th>\n",
       "      <td>0</td>\n",
       "      <td>1</td>\n",
       "      <td>3</td>\n",
       "      <td>3</td>\n",
       "      <td>8</td>\n",
       "      <td>2</td>\n",
       "      <td>4</td>\n",
       "      <td>0.727377</td>\n",
       "      <td>0</td>\n",
       "      <td>-1.333299</td>\n",
       "      <td>...</td>\n",
       "      <td>1</td>\n",
       "      <td>1.203218</td>\n",
       "      <td>1.432858</td>\n",
       "      <td>-1.433309</td>\n",
       "      <td>0</td>\n",
       "      <td>3</td>\n",
       "      <td>2</td>\n",
       "      <td>-0.905015</td>\n",
       "      <td>5058</td>\n",
       "      <td>2</td>\n",
       "    </tr>\n",
       "  </tbody>\n",
       "</table>\n",
       "<p>25000 rows × 22 columns</p>\n",
       "</div>"
      ],
      "text/plain": [
       "       Location_type  WH_capacity_size  zone  WH_regional_zone  \\\n",
       "0                  1                 2     3                 5   \n",
       "1                  0                 0     1                 4   \n",
       "2                  0                 1     2                 1   \n",
       "3                  0                 1     1                 2   \n",
       "4                  0                 0     1                 4   \n",
       "...              ...               ...   ...               ...   \n",
       "24995              0                 2     1                 0   \n",
       "24996              0                 1     3                 1   \n",
       "24997              1                 0     2                 4   \n",
       "24998              0                 2     1                 0   \n",
       "24999              0                 1     3                 3   \n",
       "\n",
       "       num_refill_req_l3m  transport_issue_l1y  Competitor_in_mkt  \\\n",
       "0                       3                    1                  2   \n",
       "1                       0                    0                  4   \n",
       "2                       1                    0                  4   \n",
       "3                       7                    4                  2   \n",
       "4                       3                    1                  2   \n",
       "...                   ...                  ...                ...   \n",
       "24995                   3                    0                  4   \n",
       "24996                   6                    0                  4   \n",
       "24997                   7                    0                  2   \n",
       "24998                   1                    0                  2   \n",
       "24999                   8                    2                  4   \n",
       "\n",
       "       retail_shop_num  wh_owner_type  distributor_num  ...  electric_supply  \\\n",
       "0            -0.317618              1        -1.146546  ...                1   \n",
       "1             1.297843              0         0.285226  ...                1   \n",
       "2            -0.673514              0         1.343493  ...                0   \n",
       "3             1.073989              1         0.471979  ...                0   \n",
       "4            -0.225807              0        -0.026028  ...                1   \n",
       "...                ...            ...              ...  ...              ...   \n",
       "24995         0.444723              1        -1.457801  ...                1   \n",
       "24996        -0.483703              0         0.907736  ...                1   \n",
       "24997         0.458134              1        -0.710789  ...                1   \n",
       "24998         2.394933              1        -1.084295  ...                1   \n",
       "24999         0.727377              0        -1.333299  ...                1   \n",
       "\n",
       "       dist_from_hub  workers_num  storage_issue_reported_l3m  temp_reg_mach  \\\n",
       "0          -1.156575     0.031681                   -0.450876              0   \n",
       "1           0.740827     0.311916                   -1.433309              0   \n",
       "2          -0.040456     1.152622                   -0.014239              0   \n",
       "3          -0.965240    -1.089261                   -0.014239              1   \n",
       "4          -0.821739    -0.528790                    0.094921              0   \n",
       "...              ...          ...                         ...            ...   \n",
       "24995      -0.343403     0.732269                    0.531558              1   \n",
       "24996      -0.534737    -0.108437                   -0.778354              0   \n",
       "24997      -0.263680     0.023890                    0.640717              0   \n",
       "24998      -1.650856    -0.528790                    0.094921              0   \n",
       "24999       1.203218     1.432858                   -1.433309              0   \n",
       "\n",
       "       approved_wh_govt_certificate  wh_breakdown_l3m  govt_check_l3m  \\\n",
       "0                                 0                 5       -0.441634   \n",
       "1                                 0                 3       -0.209944   \n",
       "2                                 0                 6        0.369282   \n",
       "3                                 1                 3        0.948508   \n",
       "4                                 4                 6        0.600972   \n",
       "...                             ...               ...             ...   \n",
       "24995                             0                 2        1.296044   \n",
       "24996                             2                 4       -0.094099   \n",
       "24997                             3                 5        0.716818   \n",
       "24998                             0                 6        1.296044   \n",
       "24999                             3                 2       -0.905015   \n",
       "\n",
       "       product_wg_ton  Cluster  \n",
       "0               17115        1  \n",
       "1                5074        1  \n",
       "2               23137        1  \n",
       "3               22115        1  \n",
       "4               24071        0  \n",
       "...               ...      ...  \n",
       "24995           32093        1  \n",
       "24996           12114        2  \n",
       "24997           27080        0  \n",
       "24998           25093        1  \n",
       "24999            5058        2  \n",
       "\n",
       "[25000 rows x 22 columns]"
      ]
     },
     "execution_count": 41,
     "metadata": {},
     "output_type": "execute_result"
    }
   ],
   "source": [
    "clustered_df"
   ]
  },
  {
   "cell_type": "markdown",
   "id": "60ea0607",
   "metadata": {},
   "source": [
    "### Split the dataset"
   ]
  },
  {
   "cell_type": "code",
   "execution_count": 42,
   "id": "b01c5176",
   "metadata": {},
   "outputs": [],
   "source": [
    "X = clustered_df.drop(['Cluster'], axis=1)\n",
    "y = clustered_df['Cluster']"
   ]
  },
  {
   "cell_type": "code",
   "execution_count": 43,
   "id": "d8c98216",
   "metadata": {},
   "outputs": [],
   "source": [
    "X_train, X_test, y_train, y_test = train_test_split(X,y,test_size=0.3,random_state=42)"
   ]
  },
  {
   "cell_type": "code",
   "execution_count": 44,
   "id": "a7718273",
   "metadata": {},
   "outputs": [
    {
     "name": "stdout",
     "output_type": "stream",
     "text": [
      "(17500, 21)\n",
      "(7500, 21)\n",
      "(17500,)\n",
      "(7500,)\n"
     ]
    }
   ],
   "source": [
    "print(X_train.shape)\n",
    "print(X_test.shape)\n",
    "print(y_train.shape)\n",
    "print(y_test.shape)"
   ]
  },
  {
   "cell_type": "markdown",
   "id": "cefdafb8",
   "metadata": {},
   "source": [
    "### DecisionTreeClassifier"
   ]
  },
  {
   "cell_type": "code",
   "execution_count": 45,
   "id": "6325955c",
   "metadata": {},
   "outputs": [
    {
     "name": "stdout",
     "output_type": "stream",
     "text": [
      "Accuracy: 0.9942666666666666\n"
     ]
    }
   ],
   "source": [
    "clf = DecisionTreeClassifier()\n",
    "clf.fit(X_train, y_train)\n",
    "# Predicting on the testing data\n",
    "y_pred = clf.predict(X_test)\n",
    "# Calculating the accuracy of the model\n",
    "accuracy = accuracy_score(y_test, y_pred)\n",
    "print(\"Accuracy:\", accuracy)"
   ]
  },
  {
   "cell_type": "code",
   "execution_count": 46,
   "id": "0e74f728",
   "metadata": {},
   "outputs": [
    {
     "data": {
      "text/plain": [
       "array([[2505,    0,   27],\n",
       "       [   0, 2674,    0],\n",
       "       [  16,    0, 2278]], dtype=int64)"
      ]
     },
     "execution_count": 46,
     "metadata": {},
     "output_type": "execute_result"
    }
   ],
   "source": [
    "cm = confusion_matrix(y_test, y_pred)\n",
    "cm"
   ]
  },
  {
   "cell_type": "code",
   "execution_count": 47,
   "id": "7acca382",
   "metadata": {},
   "outputs": [
    {
     "data": {
      "image/png": "[encoded data removed]",
      "text/plain": [
       "<Figure size 800x600 with 2 Axes>"
      ]
     },
     "metadata": {},
     "output_type": "display_data"
    }
   ],
   "source": [
    "# Plot confusion matrix\n",
    "plt.figure(figsize=(8, 6))\n",
    "sns.heatmap(cm, annot=True, cmap='Blues', fmt='g')\n",
    "plt.xlabel('Predicted Labels')\n",
    "plt.ylabel('True Labels')\n",
    "plt.title('Confusion Matrix')\n",
    "plt.show()"
   ]
  },
  {
   "cell_type": "code",
   "execution_count": 48,
   "id": "5f7a0922",
   "metadata": {
    "scrolled": false
   },
   "outputs": [
    {
     "name": "stdout",
     "output_type": "stream",
     "text": [
      "              precision    recall  f1-score   support\n",
      "\n",
      "           0       0.99      0.99      0.99      2532\n",
      "           1       1.00      1.00      1.00      2674\n",
      "           2       0.99      0.99      0.99      2294\n",
      "\n",
      "    accuracy                           0.99      7500\n",
      "   macro avg       0.99      0.99      0.99      7500\n",
      "weighted avg       0.99      0.99      0.99      7500\n",
      "\n"
     ]
    }
   ],
   "source": [
    "print(classification_report(y_test,y_pred))"
   ]
  },
  {
   "cell_type": "code",
   "execution_count": 49,
   "id": "d2a64607",
   "metadata": {},
   "outputs": [],
   "source": [
    "feature_df = pd.DataFrame({'Feature':clf.feature_names_in_,'Values':clf.feature_importances_})"
   ]
  },
  {
   "cell_type": "code",
   "execution_count": 50,
   "id": "45c4b8bf",
   "metadata": {},
   "outputs": [
    {
     "data": {
      "text/html": [
       "<div>\n",
       "<style scoped>\n",
       "    .dataframe tbody tr th:only-of-type {\n",
       "        vertical-align: middle;\n",
       "    }\n",
       "\n",
       "    .dataframe tbody tr th {\n",
       "        vertical-align: top;\n",
       "    }\n",
       "\n",
       "    .dataframe thead th {\n",
       "        text-align: right;\n",
       "    }\n",
       "</style>\n",
       "<table border=\"1\" class=\"dataframe\">\n",
       "  <thead>\n",
       "    <tr style=\"text-align: right;\">\n",
       "      <th></th>\n",
       "      <th>Feature</th>\n",
       "      <th>Values</th>\n",
       "    </tr>\n",
       "  </thead>\n",
       "  <tbody>\n",
       "    <tr>\n",
       "      <th>0</th>\n",
       "      <td>approved_wh_govt_certificate</td>\n",
       "      <td>0.554297</td>\n",
       "    </tr>\n",
       "    <tr>\n",
       "      <th>1</th>\n",
       "      <td>storage_issue_reported_l3m</td>\n",
       "      <td>0.414585</td>\n",
       "    </tr>\n",
       "    <tr>\n",
       "      <th>2</th>\n",
       "      <td>dist_from_hub</td>\n",
       "      <td>0.022355</td>\n",
       "    </tr>\n",
       "    <tr>\n",
       "      <th>3</th>\n",
       "      <td>workers_num</td>\n",
       "      <td>0.004935</td>\n",
       "    </tr>\n",
       "    <tr>\n",
       "      <th>4</th>\n",
       "      <td>electric_supply</td>\n",
       "      <td>0.000888</td>\n",
       "    </tr>\n",
       "  </tbody>\n",
       "</table>\n",
       "</div>"
      ],
      "text/plain": [
       "                        Feature    Values\n",
       "0  approved_wh_govt_certificate  0.554297\n",
       "1    storage_issue_reported_l3m  0.414585\n",
       "2                 dist_from_hub  0.022355\n",
       "3                   workers_num  0.004935\n",
       "4               electric_supply  0.000888"
      ]
     },
     "execution_count": 50,
     "metadata": {},
     "output_type": "execute_result"
    }
   ],
   "source": [
    "feature_df.sort_values(by='Values',ascending=False).reset_index(drop=True).head(5)"
   ]
  },
  {
   "cell_type": "markdown",
   "id": "3422eca2",
   "metadata": {},
   "source": [
    "### ExtraTree Classifier"
   ]
  },
  {
   "cell_type": "code",
   "execution_count": 51,
   "id": "b69f39e0",
   "metadata": {},
   "outputs": [],
   "source": [
    "extra_tree = ExtraTreeClassifier(random_state=42)\n",
    "clf = extra_tree.fit(X_train,y_train)\n",
    "y_pred = clf.predict(X_test)"
   ]
  },
  {
   "cell_type": "code",
   "execution_count": 52,
   "id": "6f2c4ee3",
   "metadata": {},
   "outputs": [
    {
     "data": {
      "text/plain": [
       "array([[2326,   88,  118],\n",
       "       [  99, 2539,   36],\n",
       "       [ 158,   41, 2095]], dtype=int64)"
      ]
     },
     "execution_count": 52,
     "metadata": {},
     "output_type": "execute_result"
    }
   ],
   "source": [
    "cm = confusion_matrix(y_test,y_pred)\n",
    "cm"
   ]
  },
  {
   "cell_type": "code",
   "execution_count": 53,
   "id": "0643877e",
   "metadata": {},
   "outputs": [],
   "source": [
    "feature_df = pd.DataFrame({'Feature':clf.feature_names_in_,'Values':clf.feature_importances_})"
   ]
  },
  {
   "cell_type": "code",
   "execution_count": 54,
   "id": "a950f99e",
   "metadata": {},
   "outputs": [
    {
     "data": {
      "text/html": [
       "<div>\n",
       "<style scoped>\n",
       "    .dataframe tbody tr th:only-of-type {\n",
       "        vertical-align: middle;\n",
       "    }\n",
       "\n",
       "    .dataframe tbody tr th {\n",
       "        vertical-align: top;\n",
       "    }\n",
       "\n",
       "    .dataframe thead th {\n",
       "        text-align: right;\n",
       "    }\n",
       "</style>\n",
       "<table border=\"1\" class=\"dataframe\">\n",
       "  <thead>\n",
       "    <tr style=\"text-align: right;\">\n",
       "      <th></th>\n",
       "      <th>Feature</th>\n",
       "      <th>Values</th>\n",
       "    </tr>\n",
       "  </thead>\n",
       "  <tbody>\n",
       "    <tr>\n",
       "      <th>0</th>\n",
       "      <td>approved_wh_govt_certificate</td>\n",
       "      <td>0.537949</td>\n",
       "    </tr>\n",
       "    <tr>\n",
       "      <th>1</th>\n",
       "      <td>storage_issue_reported_l3m</td>\n",
       "      <td>0.242161</td>\n",
       "    </tr>\n",
       "    <tr>\n",
       "      <th>2</th>\n",
       "      <td>product_wg_ton</td>\n",
       "      <td>0.091229</td>\n",
       "    </tr>\n",
       "    <tr>\n",
       "      <th>3</th>\n",
       "      <td>temp_reg_mach</td>\n",
       "      <td>0.015775</td>\n",
       "    </tr>\n",
       "    <tr>\n",
       "      <th>4</th>\n",
       "      <td>wh_breakdown_l3m</td>\n",
       "      <td>0.015302</td>\n",
       "    </tr>\n",
       "  </tbody>\n",
       "</table>\n",
       "</div>"
      ],
      "text/plain": [
       "                        Feature    Values\n",
       "0  approved_wh_govt_certificate  0.537949\n",
       "1    storage_issue_reported_l3m  0.242161\n",
       "2                product_wg_ton  0.091229\n",
       "3                 temp_reg_mach  0.015775\n",
       "4              wh_breakdown_l3m  0.015302"
      ]
     },
     "execution_count": 54,
     "metadata": {},
     "output_type": "execute_result"
    }
   ],
   "source": [
    "feature_df.sort_values(by='Values',ascending=False).reset_index(drop=True).head(5)"
   ]
  },
  {
   "cell_type": "code",
   "execution_count": 55,
   "id": "dc935e50",
   "metadata": {},
   "outputs": [
    {
     "name": "stdout",
     "output_type": "stream",
     "text": [
      "              precision    recall  f1-score   support\n",
      "\n",
      "           0       0.90      0.92      0.91      2532\n",
      "           1       0.95      0.95      0.95      2674\n",
      "           2       0.93      0.91      0.92      2294\n",
      "\n",
      "    accuracy                           0.93      7500\n",
      "   macro avg       0.93      0.93      0.93      7500\n",
      "weighted avg       0.93      0.93      0.93      7500\n",
      "\n"
     ]
    }
   ],
   "source": [
    "print(classification_report(y_test,y_pred))"
   ]
  },
  {
   "cell_type": "code",
   "execution_count": 56,
   "id": "2c75e089",
   "metadata": {},
   "outputs": [
    {
     "data": {
      "image/png": "[encoded data removed]",
      "text/plain": [
       "<Figure size 800x600 with 2 Axes>"
      ]
     },
     "metadata": {},
     "output_type": "display_data"
    }
   ],
   "source": [
    "# Plot confusion matrix\n",
    "plt.figure(figsize=(8, 6))\n",
    "sns.heatmap(cm, annot=True, cmap='Greens', fmt='g')\n",
    "plt.xlabel('Predicted Labels')\n",
    "plt.ylabel('True Labels')\n",
    "plt.title('Confusion Matrix')\n",
    "plt.show()"
   ]
  },
  {
   "cell_type": "markdown",
   "id": "fba5bed9",
   "metadata": {},
   "source": [
    "### K nearest neighbors"
   ]
  },
  {
   "cell_type": "code",
   "execution_count": 57,
   "id": "646d64d0",
   "metadata": {},
   "outputs": [
    {
     "data": {
      "text/plain": [
       "0.7542666666666666"
      ]
     },
     "execution_count": 57,
     "metadata": {},
     "output_type": "execute_result"
    }
   ],
   "source": [
    "neigh = KNeighborsClassifier(n_neighbors=5)\n",
    "neigh.fit(X_train,y_train)\n",
    "y_pred = neigh.predict(X_test)\n",
    "accuracy_score(y_test,y_pred)"
   ]
  },
  {
   "cell_type": "code",
   "execution_count": 58,
   "id": "7abd9fd0",
   "metadata": {},
   "outputs": [
    {
     "data": {
      "text/plain": [
       "array([[2020,  448,   64],\n",
       "       [ 640, 1710,  324],\n",
       "       [ 241,  126, 1927]], dtype=int64)"
      ]
     },
     "execution_count": 58,
     "metadata": {},
     "output_type": "execute_result"
    }
   ],
   "source": [
    "cm = confusion_matrix(y_test,y_pred)\n",
    "cm"
   ]
  },
  {
   "cell_type": "code",
   "execution_count": 59,
   "id": "ec6ec540",
   "metadata": {},
   "outputs": [
    {
     "data": {
      "image/png": "[encoded data removed]",
      "text/plain": [
       "<Figure size 800x600 with 2 Axes>"
      ]
     },
     "metadata": {},
     "output_type": "display_data"
    }
   ],
   "source": [
    "# Plot confusion matrix\n",
    "plt.figure(figsize=(8, 6))\n",
    "sns.heatmap(cm, annot=True, cmap='Greys', fmt='g')\n",
    "plt.xlabel('Predicted Labels')\n",
    "plt.ylabel('True Labels')\n",
    "plt.title('Confusion Matrix')\n",
    "plt.show()"
   ]
  },
  {
   "cell_type": "code",
   "execution_count": 60,
   "id": "1a99672a",
   "metadata": {
    "scrolled": true
   },
   "outputs": [
    {
     "name": "stdout",
     "output_type": "stream",
     "text": [
      "              precision    recall  f1-score   support\n",
      "\n",
      "           0       0.70      0.80      0.74      2532\n",
      "           1       0.75      0.64      0.69      2674\n",
      "           2       0.83      0.84      0.84      2294\n",
      "\n",
      "    accuracy                           0.75      7500\n",
      "   macro avg       0.76      0.76      0.76      7500\n",
      "weighted avg       0.76      0.75      0.75      7500\n",
      "\n"
     ]
    }
   ],
   "source": [
    "print(classification_report(y_test,y_pred))"
   ]
  },
  {
   "cell_type": "markdown",
   "id": "bf79dc0c",
   "metadata": {},
   "source": [
    "### Ensemble Models"
   ]
  },
  {
   "cell_type": "markdown",
   "id": "ede6807d",
   "metadata": {},
   "source": [
    "### Decision Tree - Bagging"
   ]
  },
  {
   "cell_type": "code",
   "execution_count": 61,
   "id": "1cd9ad9b",
   "metadata": {},
   "outputs": [],
   "source": [
    "# Initialize the base Decision Tree Classifier\n",
    "base_tree = DecisionTreeClassifier(random_state=42)"
   ]
  },
  {
   "cell_type": "code",
   "execution_count": 62,
   "id": "64ee30aa",
   "metadata": {},
   "outputs": [],
   "source": [
    "bagging_classifier = BaggingClassifier(base_estimator=base_tree, n_estimators=100, random_state=42)"
   ]
  },
  {
   "cell_type": "code",
   "execution_count": 63,
   "id": "420b629e",
   "metadata": {},
   "outputs": [
    {
     "name": "stdout",
     "output_type": "stream",
     "text": [
      "Accuracy: 0.9958666666666667\n"
     ]
    }
   ],
   "source": [
    "# Train the Bagging Classifier\n",
    "bagging_classifier.fit(X_train, y_train)\n",
    "\n",
    "# Make predictions on the testing set\n",
    "y_pred = bagging_classifier.predict(X_test)\n",
    "\n",
    "# Calculate the accuracy of the model\n",
    "accuracy = accuracy_score(y_test, y_pred)\n",
    "print(\"Accuracy:\", accuracy)"
   ]
  },
  {
   "cell_type": "code",
   "execution_count": 64,
   "id": "d4627510",
   "metadata": {
    "scrolled": true
   },
   "outputs": [
    {
     "data": {
      "text/plain": [
       "array([[2514,    0,   18],\n",
       "       [   0, 2674,    0],\n",
       "       [  13,    0, 2281]], dtype=int64)"
      ]
     },
     "execution_count": 64,
     "metadata": {},
     "output_type": "execute_result"
    }
   ],
   "source": [
    "cm = confusion_matrix(y_test,y_pred)\n",
    "cm"
   ]
  },
  {
   "cell_type": "code",
   "execution_count": 65,
   "id": "8210fe5d",
   "metadata": {
    "scrolled": false
   },
   "outputs": [
    {
     "data": {
      "image/png": "[encoded data removed]",
      "text/plain": [
       "<Figure size 800x600 with 2 Axes>"
      ]
     },
     "metadata": {},
     "output_type": "display_data"
    }
   ],
   "source": [
    "# Plot confusion matrix\n",
    "plt.figure(figsize=(8, 6))\n",
    "sns.heatmap(cm, annot=True, cmap='Blues', fmt='g')\n",
    "plt.xlabel('Predicted Labels')\n",
    "plt.ylabel('True Labels')\n",
    "plt.title('Confusion Matrix')\n",
    "plt.show()"
   ]
  },
  {
   "cell_type": "code",
   "execution_count": 66,
   "id": "f8b8dd8d",
   "metadata": {},
   "outputs": [
    {
     "name": "stdout",
     "output_type": "stream",
     "text": [
      "              precision    recall  f1-score   support\n",
      "\n",
      "           0       0.99      0.99      0.99      2532\n",
      "           1       1.00      1.00      1.00      2674\n",
      "           2       0.99      0.99      0.99      2294\n",
      "\n",
      "    accuracy                           1.00      7500\n",
      "   macro avg       1.00      1.00      1.00      7500\n",
      "weighted avg       1.00      1.00      1.00      7500\n",
      "\n"
     ]
    }
   ],
   "source": [
    "print(classification_report(y_test,y_pred))"
   ]
  },
  {
   "cell_type": "markdown",
   "id": "d0c0f5e2",
   "metadata": {},
   "source": [
    "### Ensemble Extra Tree Classifier"
   ]
  },
  {
   "cell_type": "code",
   "execution_count": 67,
   "id": "78997179",
   "metadata": {},
   "outputs": [
    {
     "name": "stdout",
     "output_type": "stream",
     "text": [
      "Accuracy: 0.9901333333333333\n"
     ]
    }
   ],
   "source": [
    "# Initialize the Extra Trees Classifier\n",
    "extra_trees_classifier = ExtraTreesClassifier(n_estimators=100, random_state=42)\n",
    "\n",
    "# Train the Extra Trees Classifier\n",
    "extra_trees_classifier.fit(X_train, y_train)\n",
    "\n",
    "# Make predictions on the testing set\n",
    "y_pred = extra_trees_classifier.predict(X_test)\n",
    "\n",
    "# Calculate the accuracy of the model\n",
    "accuracy = accuracy_score(y_test, y_pred)\n",
    "print(\"Accuracy:\", accuracy)"
   ]
  },
  {
   "cell_type": "code",
   "execution_count": 68,
   "id": "c7f15b1a",
   "metadata": {},
   "outputs": [
    {
     "data": {
      "text/plain": [
       "array([[2512,    0,   20],\n",
       "       [   0, 2674,    0],\n",
       "       [  54,    0, 2240]], dtype=int64)"
      ]
     },
     "execution_count": 68,
     "metadata": {},
     "output_type": "execute_result"
    }
   ],
   "source": [
    "cm = confusion_matrix(y_test,y_pred)\n",
    "cm"
   ]
  },
  {
   "cell_type": "code",
   "execution_count": 69,
   "id": "f3e99cc4",
   "metadata": {},
   "outputs": [
    {
     "data": {
      "image/png": "[encoded data removed]",
      "text/plain": [
       "<Figure size 800x600 with 2 Axes>"
      ]
     },
     "metadata": {},
     "output_type": "display_data"
    }
   ],
   "source": [
    "# Plot confusion matrix\n",
    "plt.figure(figsize=(8, 6))\n",
    "sns.heatmap(cm, annot=True, cmap='Greens', fmt='g')\n",
    "plt.xlabel('Predicted Labels')\n",
    "plt.ylabel('True Labels')\n",
    "plt.title('Confusion Matrix')\n",
    "plt.show()"
   ]
  },
  {
   "cell_type": "code",
   "execution_count": 70,
   "id": "80a4edd3",
   "metadata": {},
   "outputs": [
    {
     "name": "stdout",
     "output_type": "stream",
     "text": [
      "              precision    recall  f1-score   support\n",
      "\n",
      "           0       0.98      0.99      0.99      2532\n",
      "           1       1.00      1.00      1.00      2674\n",
      "           2       0.99      0.98      0.98      2294\n",
      "\n",
      "    accuracy                           0.99      7500\n",
      "   macro avg       0.99      0.99      0.99      7500\n",
      "weighted avg       0.99      0.99      0.99      7500\n",
      "\n"
     ]
    }
   ],
   "source": [
    "print(classification_report(y_test,y_pred))"
   ]
  },
  {
   "cell_type": "markdown",
   "id": "08b44e3f",
   "metadata": {},
   "source": [
    "### Ensemble Random Forest"
   ]
  },
  {
   "cell_type": "code",
   "execution_count": 71,
   "id": "e2362a4f",
   "metadata": {},
   "outputs": [
    {
     "name": "stdout",
     "output_type": "stream",
     "text": [
      "Accuracy: 0.9896\n"
     ]
    }
   ],
   "source": [
    "# Initialize the Random Forest Classifier\n",
    "random_forest = RandomForestClassifier(n_estimators=100, random_state=42)\n",
    "\n",
    "# Train the Random Forest Classifier\n",
    "random_forest.fit(X_train, y_train)\n",
    "\n",
    "# Make predictions on the testing set\n",
    "y_pred = random_forest.predict(X_test)\n",
    "\n",
    "# Calculate the accuracy of the model\n",
    "accuracy = accuracy_score(y_test, y_pred)\n",
    "print(\"Accuracy:\", accuracy)"
   ]
  },
  {
   "cell_type": "code",
   "execution_count": 72,
   "id": "16db5248",
   "metadata": {},
   "outputs": [
    {
     "data": {
      "text/plain": [
       "array([[2495,    0,   37],\n",
       "       [   0, 2674,    0],\n",
       "       [  41,    0, 2253]], dtype=int64)"
      ]
     },
     "execution_count": 72,
     "metadata": {},
     "output_type": "execute_result"
    }
   ],
   "source": [
    "cm = confusion_matrix(y_test,y_pred)\n",
    "cm"
   ]
  },
  {
   "cell_type": "code",
   "execution_count": 73,
   "id": "e46b10bd",
   "metadata": {},
   "outputs": [
    {
     "data": {
      "image/png": "[encoded data removed]",
      "text/plain": [
       "<Figure size 800x600 with 2 Axes>"
      ]
     },
     "metadata": {},
     "output_type": "display_data"
    }
   ],
   "source": [
    "# Plot confusion matrix\n",
    "plt.figure(figsize=(8, 6))\n",
    "sns.heatmap(cm, annot=True, cmap='Greys', fmt='g')\n",
    "plt.xlabel('Predicted Labels')\n",
    "plt.ylabel('True Labels')\n",
    "plt.title('Confusion Matrix')\n",
    "plt.show()"
   ]
  },
  {
   "cell_type": "code",
   "execution_count": 74,
   "id": "a6ac987c",
   "metadata": {},
   "outputs": [
    {
     "name": "stdout",
     "output_type": "stream",
     "text": [
      "              precision    recall  f1-score   support\n",
      "\n",
      "           0       0.98      0.99      0.98      2532\n",
      "           1       1.00      1.00      1.00      2674\n",
      "           2       0.98      0.98      0.98      2294\n",
      "\n",
      "    accuracy                           0.99      7500\n",
      "   macro avg       0.99      0.99      0.99      7500\n",
      "weighted avg       0.99      0.99      0.99      7500\n",
      "\n"
     ]
    }
   ],
   "source": [
    "print(classification_report(y_test,y_pred))"
   ]
  },
  {
   "cell_type": "markdown",
   "id": "b98c879c",
   "metadata": {},
   "source": [
    "### AdaBoost"
   ]
  },
  {
   "cell_type": "code",
   "execution_count": 75,
   "id": "f9e5bc95",
   "metadata": {},
   "outputs": [],
   "source": [
    "from sklearn.ensemble import AdaBoostClassifier"
   ]
  },
  {
   "cell_type": "code",
   "execution_count": 76,
   "id": "625f159e",
   "metadata": {},
   "outputs": [
    {
     "name": "stdout",
     "output_type": "stream",
     "text": [
      "Accuracy: 0.9790666666666666\n"
     ]
    }
   ],
   "source": [
    "# Initialize the base Decision Tree classifier\n",
    "base_estimator = DecisionTreeClassifier(max_depth=1)\n",
    "\n",
    "# Initialize the AdaBoost classifier with the Decision Tree base estimator\n",
    "ada_classifier = AdaBoostClassifier(base_estimator=base_estimator, n_estimators=50, learning_rate=1.0, random_state=42)\n",
    "\n",
    "# Train the AdaBoost classifier\n",
    "ada_classifier.fit(X_train, y_train)\n",
    "\n",
    "# Make predictions on the testing set\n",
    "y_pred = ada_classifier.predict(X_test)\n",
    "\n",
    "# Calculate the accuracy of the model\n",
    "accuracy = accuracy_score(y_test, y_pred)\n",
    "print(\"Accuracy:\", accuracy)"
   ]
  },
  {
   "cell_type": "code",
   "execution_count": 77,
   "id": "95e49a0c",
   "metadata": {},
   "outputs": [
    {
     "data": {
      "text/plain": [
       "array([[2521,    0,   11],\n",
       "       [   0, 2674,    0],\n",
       "       [ 146,    0, 2148]], dtype=int64)"
      ]
     },
     "execution_count": 77,
     "metadata": {},
     "output_type": "execute_result"
    }
   ],
   "source": [
    "cm = confusion_matrix(y_test,y_pred)\n",
    "cm"
   ]
  },
  {
   "cell_type": "code",
   "execution_count": 78,
   "id": "3ffba028",
   "metadata": {},
   "outputs": [
    {
     "data": {
      "image/png": "[encoded data removed]",
      "text/plain": [
       "<Figure size 800x600 with 2 Axes>"
      ]
     },
     "metadata": {},
     "output_type": "display_data"
    }
   ],
   "source": [
    "# Plot confusion matrix\n",
    "plt.figure(figsize=(8, 6))\n",
    "sns.heatmap(cm, annot=True, cmap='Oranges', fmt='g')\n",
    "plt.xlabel('Predicted Labels')\n",
    "plt.ylabel('True Labels')\n",
    "plt.title('Confusion Matrix')\n",
    "plt.show()"
   ]
  },
  {
   "cell_type": "code",
   "execution_count": 79,
   "id": "ebdd5bdc",
   "metadata": {},
   "outputs": [
    {
     "name": "stdout",
     "output_type": "stream",
     "text": [
      "              precision    recall  f1-score   support\n",
      "\n",
      "           0       0.95      1.00      0.97      2532\n",
      "           1       1.00      1.00      1.00      2674\n",
      "           2       0.99      0.94      0.96      2294\n",
      "\n",
      "    accuracy                           0.98      7500\n",
      "   macro avg       0.98      0.98      0.98      7500\n",
      "weighted avg       0.98      0.98      0.98      7500\n",
      "\n"
     ]
    }
   ],
   "source": [
    "print(classification_report(y_test,y_pred))"
   ]
  },
  {
   "cell_type": "markdown",
   "id": "11f17896",
   "metadata": {},
   "source": [
    "### Gradient Boost"
   ]
  },
  {
   "cell_type": "code",
   "execution_count": 80,
   "id": "5390139f",
   "metadata": {},
   "outputs": [],
   "source": [
    "from sklearn.ensemble import GradientBoostingClassifier"
   ]
  },
  {
   "cell_type": "code",
   "execution_count": 81,
   "id": "5c930f6e",
   "metadata": {},
   "outputs": [
    {
     "name": "stdout",
     "output_type": "stream",
     "text": [
      "Accuracy: 0.9965333333333334\n"
     ]
    }
   ],
   "source": [
    "# Initialize the Gradient Boosting classifier\n",
    "gb_classifier = GradientBoostingClassifier(n_estimators=100, learning_rate=0.1, random_state=42, max_depth=8)\n",
    "\n",
    "# Train the Gradient Boosting classifier\n",
    "gb_classifier.fit(X_train, y_train)\n",
    "\n",
    "# Make predictions on the testing set\n",
    "y_pred = gb_classifier.predict(X_test)\n",
    "\n",
    "# Calculate the accuracy of the model\n",
    "accuracy = accuracy_score(y_test, y_pred)\n",
    "print(\"Accuracy:\", accuracy)"
   ]
  },
  {
   "cell_type": "code",
   "execution_count": 82,
   "id": "0def72b6",
   "metadata": {},
   "outputs": [
    {
     "data": {
      "text/plain": [
       "array([[2516,    0,   16],\n",
       "       [   0, 2674,    0],\n",
       "       [  10,    0, 2284]], dtype=int64)"
      ]
     },
     "execution_count": 82,
     "metadata": {},
     "output_type": "execute_result"
    }
   ],
   "source": [
    "cm = confusion_matrix(y_test,y_pred)\n",
    "cm"
   ]
  },
  {
   "cell_type": "code",
   "execution_count": 83,
   "id": "4bceee8d",
   "metadata": {},
   "outputs": [
    {
     "data": {
      "image/png": "[encoded data removed]",
      "text/plain": [
       "<Figure size 800x600 with 2 Axes>"
      ]
     },
     "metadata": {},
     "output_type": "display_data"
    }
   ],
   "source": [
    "# Plot confusion matrix\n",
    "plt.figure(figsize=(8, 6))\n",
    "sns.heatmap(cm, annot=True, cmap='Greens', fmt='g')\n",
    "plt.xlabel('Predicted Labels')\n",
    "plt.ylabel('True Labels')\n",
    "plt.title('Confusion Matrix')\n",
    "plt.show()"
   ]
  },
  {
   "cell_type": "code",
   "execution_count": 84,
   "id": "73d40261",
   "metadata": {},
   "outputs": [
    {
     "name": "stdout",
     "output_type": "stream",
     "text": [
      "              precision    recall  f1-score   support\n",
      "\n",
      "           0       1.00      0.99      0.99      2532\n",
      "           1       1.00      1.00      1.00      2674\n",
      "           2       0.99      1.00      0.99      2294\n",
      "\n",
      "    accuracy                           1.00      7500\n",
      "   macro avg       1.00      1.00      1.00      7500\n",
      "weighted avg       1.00      1.00      1.00      7500\n",
      "\n"
     ]
    }
   ],
   "source": [
    "print(classification_report(y_test,y_pred))"
   ]
  },
  {
   "cell_type": "markdown",
   "id": "b4c967ad",
   "metadata": {},
   "source": [
    "### Top 5 Contributing Features to the best model"
   ]
  },
  {
   "cell_type": "code",
   "execution_count": 85,
   "id": "0c598807",
   "metadata": {},
   "outputs": [],
   "source": [
    "features_name = pd.DataFrame({'Features':gb_classifier.feature_names_in_,'Values':gb_classifier.feature_importances_})"
   ]
  },
  {
   "cell_type": "code",
   "execution_count": 86,
   "id": "83bd9a71",
   "metadata": {},
   "outputs": [
    {
     "data": {
      "text/html": [
       "<div>\n",
       "<style scoped>\n",
       "    .dataframe tbody tr th:only-of-type {\n",
       "        vertical-align: middle;\n",
       "    }\n",
       "\n",
       "    .dataframe tbody tr th {\n",
       "        vertical-align: top;\n",
       "    }\n",
       "\n",
       "    .dataframe thead th {\n",
       "        text-align: right;\n",
       "    }\n",
       "</style>\n",
       "<table border=\"1\" class=\"dataframe\">\n",
       "  <thead>\n",
       "    <tr style=\"text-align: right;\">\n",
       "      <th></th>\n",
       "      <th>Features</th>\n",
       "      <th>Values</th>\n",
       "    </tr>\n",
       "  </thead>\n",
       "  <tbody>\n",
       "    <tr>\n",
       "      <th>0</th>\n",
       "      <td>approved_wh_govt_certificate</td>\n",
       "      <td>0.681582</td>\n",
       "    </tr>\n",
       "    <tr>\n",
       "      <th>1</th>\n",
       "      <td>product_wg_ton</td>\n",
       "      <td>0.152953</td>\n",
       "    </tr>\n",
       "    <tr>\n",
       "      <th>2</th>\n",
       "      <td>storage_issue_reported_l3m</td>\n",
       "      <td>0.134287</td>\n",
       "    </tr>\n",
       "    <tr>\n",
       "      <th>3</th>\n",
       "      <td>dist_from_hub</td>\n",
       "      <td>0.024479</td>\n",
       "    </tr>\n",
       "    <tr>\n",
       "      <th>4</th>\n",
       "      <td>workers_num</td>\n",
       "      <td>0.004474</td>\n",
       "    </tr>\n",
       "  </tbody>\n",
       "</table>\n",
       "</div>"
      ],
      "text/plain": [
       "                       Features    Values\n",
       "0  approved_wh_govt_certificate  0.681582\n",
       "1                product_wg_ton  0.152953\n",
       "2    storage_issue_reported_l3m  0.134287\n",
       "3                 dist_from_hub  0.024479\n",
       "4                   workers_num  0.004474"
      ]
     },
     "execution_count": 86,
     "metadata": {},
     "output_type": "execute_result"
    }
   ],
   "source": [
    "features_name.sort_values(by='Values',ascending=False).head(5).reset_index(drop=True)"
   ]
  },
  {
   "cell_type": "markdown",
   "id": "0e3b2492",
   "metadata": {},
   "source": [
    "## Linear Regression Approach"
   ]
  },
  {
   "cell_type": "code",
   "execution_count": 87,
   "id": "f23d84d5",
   "metadata": {},
   "outputs": [],
   "source": [
    "from sklearn.metrics import mean_squared_error"
   ]
  },
  {
   "cell_type": "code",
   "execution_count": 88,
   "id": "92e68b17",
   "metadata": {},
   "outputs": [],
   "source": [
    "import statsmodels.api as sm\n"
   ]
  },
  {
   "cell_type": "code",
   "execution_count": 89,
   "id": "a428da01",
   "metadata": {},
   "outputs": [],
   "source": [
    "X_1 = clustered_df.drop(['Cluster','product_wg_ton'], axis=1)\n",
    "y_1 = clustered_df['product_wg_ton']"
   ]
  },
  {
   "cell_type": "code",
   "execution_count": 90,
   "id": "91a0976d",
   "metadata": {},
   "outputs": [],
   "source": [
    "X_train, X_test, y_train, y_test = train_test_split(X_1,y_1,test_size=0.3,random_state=42)"
   ]
  },
  {
   "cell_type": "code",
   "execution_count": 91,
   "id": "ff2645ee",
   "metadata": {},
   "outputs": [
    {
     "name": "stdout",
     "output_type": "stream",
     "text": [
      "                            OLS Regression Results                            \n",
      "==============================================================================\n",
      "Dep. Variable:         product_wg_ton   R-squared:                       0.977\n",
      "Model:                            OLS   Adj. R-squared:                  0.977\n",
      "Method:                 Least Squares   F-statistic:                 3.778e+04\n",
      "Date:                Sun, 14 Apr 2024   Prob (F-statistic):               0.00\n",
      "Time:                        15:36:47   Log-Likelihood:            -1.5548e+05\n",
      "No. Observations:               17500   AIC:                         3.110e+05\n",
      "Df Residuals:                   17479   BIC:                         3.112e+05\n",
      "Df Model:                          20                                         \n",
      "Covariance Type:            nonrobust                                         \n",
      "================================================================================================\n",
      "                                   coef    std err          t      P>|t|      [0.025      0.975]\n",
      "------------------------------------------------------------------------------------------------\n",
      "const                         2.319e+04     79.609    291.325      0.000     2.3e+04    2.33e+04\n",
      "Location_type                 -104.4315     48.312     -2.162      0.031    -199.128      -9.735\n",
      "WH_capacity_size                13.2226     21.075      0.627      0.530     -28.087      54.532\n",
      "zone                           -16.3095     15.473     -1.054      0.292     -46.639      14.020\n",
      "WH_regional_zone                 0.6513      9.383      0.069      0.945     -17.739      19.042\n",
      "num_refill_req_l3m              -5.6394      5.264     -1.071      0.284     -15.957       4.678\n",
      "transport_issue_l1y           -304.1032     11.178    -27.205      0.000    -326.013    -282.193\n",
      "Competitor_in_mkt               -7.6889     11.939     -0.644      0.520     -31.090      15.712\n",
      "retail_shop_num                  3.2030     13.554      0.236      0.813     -23.364      29.771\n",
      "wh_owner_type                  -27.3985     27.521     -0.996      0.319     -81.341      26.544\n",
      "distributor_num                 23.1929     13.267      1.748      0.080      -2.811      49.197\n",
      "flood_impacted                   4.3419     45.086      0.096      0.923     -84.032      92.715\n",
      "flood_proof                    115.3843     58.483      1.973      0.049       0.752     230.017\n",
      "electric_supply                -30.2333     30.595     -0.988      0.323     -90.203      29.737\n",
      "dist_from_hub                   13.9698     13.217      1.057      0.291     -11.936      39.876\n",
      "workers_num                     -3.4751     14.334     -0.242      0.808     -31.572      24.622\n",
      "storage_issue_reported_l3m    1.149e+04     14.624    785.895      0.000    1.15e+04    1.15e+04\n",
      "temp_reg_mach                  927.2662     30.279     30.624      0.000     867.917     986.615\n",
      "approved_wh_govt_certificate  -107.3825      9.402    -11.421      0.000    -125.812     -88.953\n",
      "wh_breakdown_l3m              -233.3908      8.530    -27.362      0.000    -250.110    -216.672\n",
      "govt_check_l3m                 -17.1426     14.049     -1.220      0.222     -44.681      10.395\n",
      "==============================================================================\n",
      "Omnibus:                     5598.319   Durbin-Watson:                   1.993\n",
      "Prob(Omnibus):                  0.000   Jarque-Bera (JB):            31770.218\n",
      "Skew:                           1.424   Prob(JB):                         0.00\n",
      "Kurtosis:                       8.954   Cond. No.                         49.1\n",
      "==============================================================================\n",
      "\n",
      "Notes:\n",
      "[1] Standard Errors assume that the covariance matrix of the errors is correctly specified.\n",
      "Mean Squared Error (MSE): 3131446.2330152593\n"
     ]
    }
   ],
   "source": [
    "# Add a constant term to the predictors for both training and testing sets\n",
    "X_train = sm.add_constant(X_train)\n",
    "X_test = sm.add_constant(X_test)\n",
    "\n",
    "# Fit the linear regression model on the training data\n",
    "model = sm.OLS(y_train, X_train)\n",
    "results = model.fit()\n",
    "\n",
    "# Print the summary of the regression results\n",
    "print(results.summary())\n",
    "\n",
    "# Evaluate the model on the testing data\n",
    "y_pred = results.predict(X_test)\n",
    "\n",
    "# You can then evaluate the model's performance using various metrics such as mean squared error (MSE)\n",
    "\n",
    "mse = mean_squared_error(y_test, y_pred)\n",
    "print(\"Mean Squared Error (MSE):\", mse)"
   ]
  },
  {
   "cell_type": "code",
   "execution_count": 92,
   "id": "9cb20d84",
   "metadata": {},
   "outputs": [],
   "source": [
    "random_state = 42\n",
    "# Extract initial p-values\n",
    "p_values = results.pvalues\n",
    "\n",
    "# Iterate until all p-values are below 0.05\n",
    "while (p_values > 0.05).any():\n",
    "    # Find the feature with the highest p-value\n",
    "    removal_feature = p_values.idxmax()\n",
    "    \n",
    "    # Check if the feature exists in the dataset before attempting to drop it\n",
    "    if removal_feature in X_train.columns:\n",
    "        # Drop the feature from both training and test datasets\n",
    "        X_train.drop(removal_feature, axis=1, inplace=True)\n",
    "        X_test.drop(removal_feature, axis=1, inplace=True)\n",
    "    \n",
    "    # Refit the model\n",
    "    model = sm.OLS(y_train, X_train)\n",
    "    result = model.fit()\n",
    "    \n",
    "    # Extract p-values\n",
    "    p_values = result.pvalues"
   ]
  },
  {
   "cell_type": "code",
   "execution_count": 93,
   "id": "e33716d7",
   "metadata": {},
   "outputs": [
    {
     "name": "stdout",
     "output_type": "stream",
     "text": [
      "                            OLS Regression Results                            \n",
      "==============================================================================\n",
      "Dep. Variable:         product_wg_ton   R-squared:                       0.977\n",
      "Model:                            OLS   Adj. R-squared:                  0.977\n",
      "Method:                 Least Squares   F-statistic:                 1.259e+05\n",
      "Date:                Sun, 14 Apr 2024   Prob (F-statistic):               0.00\n",
      "Time:                        15:36:47   Log-Likelihood:            -1.5549e+05\n",
      "No. Observations:               17500   AIC:                         3.110e+05\n",
      "Df Residuals:                   17493   BIC:                         3.110e+05\n",
      "Df Model:                           6                                         \n",
      "Covariance Type:            nonrobust                                         \n",
      "================================================================================================\n",
      "                                   coef    std err          t      P>|t|      [0.025      0.975]\n",
      "------------------------------------------------------------------------------------------------\n",
      "const                         2.311e+04     41.635    554.949      0.000     2.3e+04    2.32e+04\n",
      "Location_type                 -104.5530     48.301     -2.165      0.030    -199.227      -9.879\n",
      "transport_issue_l1y           -303.4714     11.173    -27.162      0.000    -325.371    -281.572\n",
      "storage_issue_reported_l3m    1.149e+04     14.620    786.122      0.000    1.15e+04    1.15e+04\n",
      "temp_reg_mach                  919.1348     29.167     31.512      0.000     861.964     976.306\n",
      "approved_wh_govt_certificate  -107.9191      9.394    -11.488      0.000    -126.332     -89.506\n",
      "wh_breakdown_l3m              -233.6816      8.526    -27.410      0.000    -250.393    -216.971\n",
      "==============================================================================\n",
      "Omnibus:                     5578.922   Durbin-Watson:                   1.993\n",
      "Prob(Omnibus):                  0.000   Jarque-Bera (JB):            31477.409\n",
      "Skew:                           1.421   Prob(JB):                         0.00\n",
      "Kurtosis:                       8.924   Cond. No.                         16.8\n",
      "==============================================================================\n",
      "\n",
      "Notes:\n",
      "[1] Standard Errors assume that the covariance matrix of the errors is correctly specified.\n"
     ]
    }
   ],
   "source": [
    "print(result.summary())"
   ]
  },
  {
   "cell_type": "code",
   "execution_count": 94,
   "id": "d2159fb2",
   "metadata": {},
   "outputs": [
    {
     "name": "stdout",
     "output_type": "stream",
     "text": [
      "Mean Squared Error (MSE): 3130709.4\n",
      "Root Mean Squared Error (RMSE): 1769.38\n",
      "R-squared: 0.977\n"
     ]
    }
   ],
   "source": [
    "# Evaluate the model on the testing data\n",
    "y_pred = result.predict(X_test)\n",
    "\n",
    "# You can then evaluate the model's performance using various metrics such as mean squared error (MSE)\n",
    "mse = mean_squared_error(y_test, y_pred)\n",
    "print(\"Mean Squared Error (MSE):\", round(mse,2))\n",
    "\n",
    "# Calculate Root Mean Squared Error (RMSE)\n",
    "rmse = np.sqrt(mse)\n",
    "print(\"Root Mean Squared Error (RMSE):\", round(rmse,2))\n",
    "\n",
    "# Calculate R-squared value\n",
    "r_squared = result.rsquared\n",
    "print(\"R-squared:\", round(r_squared,3))"
   ]
  },
  {
   "cell_type": "markdown",
   "id": "79383abc",
   "metadata": {},
   "source": [
    "### AdaBoost - Regressor"
   ]
  },
  {
   "cell_type": "code",
   "execution_count": 95,
   "id": "79dbd93e",
   "metadata": {},
   "outputs": [],
   "source": [
    "from sklearn.ensemble import AdaBoostRegressor\n",
    "from sklearn.tree import DecisionTreeRegressor\n",
    "from sklearn.metrics import r2_score\n"
   ]
  },
  {
   "cell_type": "code",
   "execution_count": 96,
   "id": "aff6ec34",
   "metadata": {},
   "outputs": [],
   "source": [
    "X_1 = clustered_df.drop(['Cluster','product_wg_ton'], axis=1)\n",
    "y_1 = clustered_df['product_wg_ton']"
   ]
  },
  {
   "cell_type": "code",
   "execution_count": 97,
   "id": "aa70826d",
   "metadata": {},
   "outputs": [],
   "source": [
    "X_train, X_test, y_train, y_test = train_test_split(X_1,y_1,test_size=0.3,random_state=42)"
   ]
  },
  {
   "cell_type": "code",
   "execution_count": 98,
   "id": "43d03db5",
   "metadata": {},
   "outputs": [
    {
     "name": "stdout",
     "output_type": "stream",
     "text": [
      "Mean Squared Error (MSE): 1041845.51\n",
      "Root Mean Squared Error (RMSE): 1020.71\n",
      "R-squared: 0.992\n"
     ]
    }
   ],
   "source": [
    "# Initialize the AdaBoost regressor with decision tree as base estimator\n",
    "adaboost_reg = AdaBoostRegressor(base_estimator=DecisionTreeRegressor(max_depth=8),\n",
    "                                  n_estimators=100, random_state=42)\n",
    "\n",
    "# Fit the AdaBoost regressor to the training data\n",
    "adaboost_reg.fit(X_train, y_train)\n",
    "\n",
    "# Make predictions on the testing data\n",
    "y_pred = adaboost_reg.predict(X_test)\n",
    "\n",
    "# Calculate Mean Squared Error (MSE)\n",
    "mse = mean_squared_error(y_test, y_pred)\n",
    "print(\"Mean Squared Error (MSE):\", round(mse, 2))\n",
    "\n",
    "# Calculate Root Mean Squared Error (RMSE)\n",
    "rmse = np.sqrt(mse)\n",
    "print(\"Root Mean Squared Error (RMSE):\", round(rmse, 2))\n",
    "\n",
    "\n",
    "# Calculate R-squared value\n",
    "r_squared = r2_score(y_test, y_pred)\n",
    "print(\"R-squared:\", round(r_squared, 3))"
   ]
  },
  {
   "cell_type": "markdown",
   "id": "92a2d602",
   "metadata": {},
   "source": [
    "## Gradient Boost Regressor"
   ]
  },
  {
   "cell_type": "code",
   "execution_count": 99,
   "id": "0a6fbef0",
   "metadata": {},
   "outputs": [],
   "source": [
    "from sklearn.ensemble import GradientBoostingRegressor"
   ]
  },
  {
   "cell_type": "code",
   "execution_count": 100,
   "id": "51c83fc1",
   "metadata": {},
   "outputs": [],
   "source": [
    "X_1 = clustered_df.drop(['Cluster','product_wg_ton'], axis=1)\n",
    "y_1 = clustered_df['product_wg_ton']"
   ]
  },
  {
   "cell_type": "code",
   "execution_count": 101,
   "id": "827bc334",
   "metadata": {},
   "outputs": [],
   "source": [
    "X_train, X_test, y_train, y_test = train_test_split(X_1,y_1,test_size=0.3,random_state=42)"
   ]
  },
  {
   "cell_type": "code",
   "execution_count": 102,
   "id": "81eb8a53",
   "metadata": {},
   "outputs": [
    {
     "name": "stdout",
     "output_type": "stream",
     "text": [
      "Mean Squared Error (MSE): 870433.24\n",
      "Root Mean Squared Error (RMSE): 932.97\n",
      "R-squared: 0.994\n"
     ]
    }
   ],
   "source": [
    "# Initialize the Gradient Boosting regressor for linear regression\n",
    "gb_reg = GradientBoostingRegressor(loss='squared_error', random_state=42,learning_rate=0.1, n_estimators=100, max_depth=8)\n",
    "\n",
    "# Fit the model on the training data\n",
    "gb_reg.fit(X_train, y_train)\n",
    "\n",
    "# Make predictions on the testing data\n",
    "y_pred = gb_reg.predict(X_test)\n",
    "\n",
    "# Calculate Mean Squared Error (MSE)\n",
    "mse = mean_squared_error(y_test, y_pred)\n",
    "print(\"Mean Squared Error (MSE):\", round(mse, 2))\n",
    "\n",
    "# Calculate Root Mean Squared Error (RMSE)\n",
    "rmse = np.sqrt(mse)\n",
    "print(\"Root Mean Squared Error (RMSE):\", round(rmse, 2))\n",
    "\n",
    "# Calculate R-squared value\n",
    "r_squared = r2_score(y_test, y_pred)\n",
    "print(\"R-squared:\", round(r_squared, 3))"
   ]
  },
  {
   "cell_type": "code",
   "execution_count": 103,
   "id": "70f160af",
   "metadata": {},
   "outputs": [],
   "source": [
    "feature_importance = pd.DataFrame({'Features':gb_reg.feature_names_in_,'Values':gb_reg.feature_importances_})"
   ]
  },
  {
   "cell_type": "code",
   "execution_count": 104,
   "id": "e4e6b137",
   "metadata": {},
   "outputs": [
    {
     "data": {
      "text/html": [
       "<div>\n",
       "<style scoped>\n",
       "    .dataframe tbody tr th:only-of-type {\n",
       "        vertical-align: middle;\n",
       "    }\n",
       "\n",
       "    .dataframe tbody tr th {\n",
       "        vertical-align: top;\n",
       "    }\n",
       "\n",
       "    .dataframe thead th {\n",
       "        text-align: right;\n",
       "    }\n",
       "</style>\n",
       "<table border=\"1\" class=\"dataframe\">\n",
       "  <thead>\n",
       "    <tr style=\"text-align: right;\">\n",
       "      <th></th>\n",
       "      <th>Features</th>\n",
       "      <th>Values</th>\n",
       "    </tr>\n",
       "  </thead>\n",
       "  <tbody>\n",
       "    <tr>\n",
       "      <th>0</th>\n",
       "      <td>storage_issue_reported_l3m</td>\n",
       "      <td>0.985678</td>\n",
       "    </tr>\n",
       "    <tr>\n",
       "      <th>1</th>\n",
       "      <td>approved_wh_govt_certificate</td>\n",
       "      <td>0.009027</td>\n",
       "    </tr>\n",
       "    <tr>\n",
       "      <th>2</th>\n",
       "      <td>transport_issue_l1y</td>\n",
       "      <td>0.001161</td>\n",
       "    </tr>\n",
       "    <tr>\n",
       "      <th>3</th>\n",
       "      <td>temp_reg_mach</td>\n",
       "      <td>0.000948</td>\n",
       "    </tr>\n",
       "    <tr>\n",
       "      <th>4</th>\n",
       "      <td>retail_shop_num</td>\n",
       "      <td>0.000577</td>\n",
       "    </tr>\n",
       "  </tbody>\n",
       "</table>\n",
       "</div>"
      ],
      "text/plain": [
       "                       Features    Values\n",
       "0    storage_issue_reported_l3m  0.985678\n",
       "1  approved_wh_govt_certificate  0.009027\n",
       "2           transport_issue_l1y  0.001161\n",
       "3                 temp_reg_mach  0.000948\n",
       "4               retail_shop_num  0.000577"
      ]
     },
     "execution_count": 104,
     "metadata": {},
     "output_type": "execute_result"
    }
   ],
   "source": [
    "feature_importance.sort_values(by='Values',ascending=False).head(5).reset_index(drop=True)"
   ]
  },
  {
   "cell_type": "code",
   "execution_count": null,
   "id": "92366dfc",
   "metadata": {},
   "outputs": [],
   "source": []
  }
 ],
 "metadata": {
  "kernelspec": {
   "display_name": "Python 3 (ipykernel)",
   "language": "python",
   "name": "python3"
  },
  "language_info": {
   "codemirror_mode": {
    "name": "ipython",
    "version": 3
   },
   "file_extension": ".py",
   "mimetype": "text/x-python",
   "name": "python",
   "nbconvert_exporter": "python",
   "pygments_lexer": "ipython3",
   "version": "3.10.9"
  }
 },
 "nbformat": 4,
 "nbformat_minor": 5
}
